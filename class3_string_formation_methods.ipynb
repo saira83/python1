{
 "cells": [
  {
   "cell_type": "code",
   "execution_count": null,
   "id": "918e49ab",
   "metadata": {},
   "outputs": [],
   "source": [
    "# combination of any charactor is called string\n"
   ]
  },
  {
   "cell_type": "markdown",
   "id": "abf6d950",
   "metadata": {},
   "source": [
    "## how to assign string values in variables or how many ways to define string"
   ]
  },
  {
   "cell_type": "code",
   "execution_count": 2,
   "id": "c9964c8d",
   "metadata": {},
   "outputs": [
    {
     "name": "stdout",
     "output_type": "stream",
     "text": [
      "Huzaifa Mehmood\n"
     ]
    }
   ],
   "source": [
    "name = \"Huzaifa Mehmood\" #string always in '' or \"\"\n",
    "print(name)"
   ]
  },
  {
   "cell_type": "code",
   "execution_count": 3,
   "id": "d244e024",
   "metadata": {},
   "outputs": [
    {
     "name": "stdout",
     "output_type": "stream",
     "text": [
      "Huzaifa Mehmood\n"
     ]
    }
   ],
   "source": [
    "name = 'Huzaifa Mehmood'\n",
    "print(name)"
   ]
  },
  {
   "cell_type": "code",
   "execution_count": 4,
   "id": "eda88ea6",
   "metadata": {},
   "outputs": [
    {
     "name": "stdout",
     "output_type": "stream",
     "text": [
      "Huzaifa Mehmood <class 'str'>\n"
     ]
    }
   ],
   "source": [
    "print(name,type(name))"
   ]
  },
  {
   "cell_type": "code",
   "execution_count": 5,
   "id": "d04ce3db",
   "metadata": {},
   "outputs": [
    {
     "name": "stdout",
     "output_type": "stream",
     "text": [
      "Huzaifa Mehmood 15\n"
     ]
    }
   ],
   "source": [
    "print(name,len(name))"
   ]
  },
  {
   "cell_type": "code",
   "execution_count": 5,
   "id": "affb6399",
   "metadata": {},
   "outputs": [
    {
     "name": "stdout",
     "output_type": "stream",
     "text": [
      "<class 'str'>\n"
     ]
    }
   ],
   "source": [
    "print(type(name))"
   ]
  },
  {
   "cell_type": "code",
   "execution_count": null,
   "id": "cb109a47",
   "metadata": {},
   "outputs": [],
   "source": [
    "# space characters = \\n ,\\t ...\n",
    "# \\n = to connect the string,  \\t = to use for space"
   ]
  },
  {
   "cell_type": "code",
   "execution_count": 6,
   "id": "c3b25de2",
   "metadata": {},
   "outputs": [
    {
     "name": "stdout",
     "output_type": "stream",
     "text": [
      "name:\tHassaan\n",
      "father_name:\t Mehmood Akhter\n",
      "Education:\tMBA\n",
      "Age:\t38\n"
     ]
    }
   ],
   "source": [
    "data ='name:\\tHassaan\\nfather_name:\\t Mehmood Akhter\\nEducation:\\tMBA\\nAge:\\t38'\n",
    "print(data)"
   ]
  },
  {
   "cell_type": "code",
   "execution_count": 4,
   "id": "78047c61",
   "metadata": {},
   "outputs": [
    {
     "name": "stdout",
     "output_type": "stream",
     "text": [
      "\n",
      "name:   Hassaan Mehmood\n",
      "father_name: Mehmood Akhter\n",
      "Education:  MBA\n",
      "Age:  38\n"
     ]
    }
   ],
   "source": [
    "# triple qouts or triple double quote = multi line string\n",
    "data = \"\"\"\n",
    "name:   Hassaan Mehmood\n",
    "father_name: Mehmood Akhter\n",
    "Education:  MBA\n",
    "Age:  38\"\"\"\n",
    "print(data)"
   ]
  },
  {
   "cell_type": "code",
   "execution_count": 7,
   "id": "4455e539",
   "metadata": {},
   "outputs": [
    {
     "data": {
      "text/plain": [
       "'Huzaifa Mehmood'"
      ]
     },
     "execution_count": 7,
     "metadata": {},
     "output_type": "execute_result"
    }
   ],
   "source": [
    "name"
   ]
  },
  {
   "cell_type": "code",
   "execution_count": 45,
   "id": "80d864c8",
   "metadata": {},
   "outputs": [
    {
     "name": "stdout",
     "output_type": "stream",
     "text": [
      " name: Hassaan\n",
      " father's Name:  Mehmood Akhter\n",
      " Education: MBA\n",
      " Age: 38\n"
     ]
    }
   ],
   "source": [
    "# if single quote comes in middle of the string then it break the string.\n",
    "# then you have to use (\\) before that quote\n",
    "data =' name: Hassaan\\n father\\'s Name:  Mehmood Akhter\\n Education: MBA\\n Age: 38'\n",
    "print(data)\n"
   ]
  },
  {
   "cell_type": "code",
   "execution_count": 43,
   "id": "bde526bd",
   "metadata": {},
   "outputs": [
    {
     "data": {
      "text/plain": [
       "\" name: Hassaan\\n father's Name:  Abdul Wali\\n Education: MBA\\n Age: 38\""
      ]
     },
     "execution_count": 43,
     "metadata": {},
     "output_type": "execute_result"
    }
   ],
   "source": [
    " data"
   ]
  },
  {
   "cell_type": "code",
   "execution_count": 38,
   "id": "c2297a1f",
   "metadata": {},
   "outputs": [],
   "source": [
    "data = \"\"\"\n",
    "name:   Hassaan Mehmood\n",
    "father_name:  Mehmood Akhter\n",
    "Education:  MBA\n",
    "Age:  38\"\"\""
   ]
  },
  {
   "cell_type": "code",
   "execution_count": 39,
   "id": "6f9d68bc",
   "metadata": {},
   "outputs": [
    {
     "name": "stdout",
     "output_type": "stream",
     "text": [
      "\n",
      "name:   Hassaan Mehmood\n",
      "father_name:  Mehmood Akhter\n",
      "Education:  MBA\n",
      "Age:  38\n"
     ]
    }
   ],
   "source": [
    "print(data)"
   ]
  },
  {
   "cell_type": "code",
   "execution_count": 18,
   "id": "2399e532",
   "metadata": {},
   "outputs": [
    {
     "ename": "NameError",
     "evalue": "name 'Name' is not defined",
     "output_type": "error",
     "traceback": [
      "\u001b[1;31m---------------------------------------------------------------------------\u001b[0m",
      "\u001b[1;31mNameError\u001b[0m                                 Traceback (most recent call last)",
      "Input \u001b[1;32mIn [18]\u001b[0m, in \u001b[0;36m<cell line: 2>\u001b[1;34m()\u001b[0m\n\u001b[0;32m      1\u001b[0m name \u001b[38;5;241m=\u001b[39m \u001b[38;5;124m\"\u001b[39m\u001b[38;5;124msaira\u001b[39m\u001b[38;5;124m\"\u001b[39m\n\u001b[1;32m----> 2\u001b[0m \u001b[38;5;28mprint\u001b[39m(\u001b[43mName\u001b[49m)\n",
      "\u001b[1;31mNameError\u001b[0m: name 'Name' is not defined"
     ]
    }
   ],
   "source": [
    "name = \"saira\" #case sensitive\n",
    "print(Name)"
   ]
  },
  {
   "cell_type": "code",
   "execution_count": 14,
   "id": "d79e484f",
   "metadata": {},
   "outputs": [
    {
     "data": {
      "text/plain": [
       "'c'"
      ]
     },
     "execution_count": 14,
     "metadata": {},
     "output_type": "execute_result"
    }
   ],
   "source": [
    "\"a\"\n",
    "'b'\n",
    "'c' # jupyter cell always return last line\n"
   ]
  },
  {
   "cell_type": "code",
   "execution_count": 15,
   "id": "b302f188",
   "metadata": {},
   "outputs": [
    {
     "name": "stdout",
     "output_type": "stream",
     "text": [
      "c\n"
     ]
    }
   ],
   "source": [
    "\"a\"\n",
    "'b'\n",
    "'c'\n",
    "print('c') # print displays in formate"
   ]
  },
  {
   "cell_type": "markdown",
   "id": "1a391946",
   "metadata": {},
   "source": [
    "# how to apply variable name rules"
   ]
  },
  {
   "cell_type": "code",
   "execution_count": 1,
   "id": "db61194a",
   "metadata": {},
   "outputs": [],
   "source": [
    "# can not start with integer\n",
    "# its case sensitive\n",
    "# it can be letter with integer"
   ]
  },
  {
   "cell_type": "markdown",
   "id": "1104fa47",
   "metadata": {},
   "source": [
    "_name = \"fatima\""
   ]
  },
  {
   "cell_type": "code",
   "execution_count": null,
   "id": "0c5fe051",
   "metadata": {},
   "outputs": [],
   "source": []
  },
  {
   "cell_type": "markdown",
   "id": "a99d81eb",
   "metadata": {},
   "source": [
    "# concatination (combine two or more variables and values) text formation"
   ]
  },
  {
   "cell_type": "code",
   "execution_count": 7,
   "id": "28683060",
   "metadata": {},
   "outputs": [
    {
     "name": "stdout",
     "output_type": "stream",
     "text": [
      "Hassaan Mehmood\n",
      "mehmood akhter\n",
      "MBA\n",
      "38\n"
     ]
    }
   ],
   "source": [
    "name = \"Hassaan Mehmood\"\n",
    "father_name = \"mehmood akhter\"\n",
    "Education = \"MBA\"\n",
    "Age = 38\n",
    "print(name, father_name, Education, Age, sep=\"\\n\")"
   ]
  },
  {
   "cell_type": "code",
   "execution_count": 8,
   "id": "f772a88e",
   "metadata": {},
   "outputs": [
    {
     "name": "stdout",
     "output_type": "stream",
     "text": [
      "PIAIC teacher Card\n",
      " name: Hassaan Mehmood\n",
      " father_name: mehmood akhter\n",
      " Education: MBA\n",
      " str(Age): 38\n"
     ]
    }
   ],
   "source": [
    "# age = 38 and in variable we have to convert integers in string for example: str(age)\n",
    "result = \"PIAIC teacher Card\\n name: \"+ name +\"\\n father_name: \"+father_name+\"\\n Education: \"+Education+\"\\n str(Age): 38\"\n",
    "print(result)"
   ]
  },
  {
   "cell_type": "code",
   "execution_count": 49,
   "id": "f5bec21b",
   "metadata": {},
   "outputs": [
    {
     "name": "stdout",
     "output_type": "stream",
     "text": [
      "\n",
      "PIAIC Result Card\n",
      " name: Hassaan Mehmood\n",
      " father_name: 38\n",
      " Education: MBA\n",
      " str(Age): mehmood akhter\n",
      "\n"
     ]
    }
   ],
   "source": [
    "data = \"\"\"\n",
    "PIAIC Result Card\n",
    " name: {0}\n",
    " father_name: {3}\n",
    " Education: {2}\n",
    " str(Age): {1}\n",
    "\"\"\".format(name, father_name, Education, Age)\n",
    "print(data) # we must have to pass the values according to keys or by index numbers"
   ]
  },
  {
   "cell_type": "code",
   "execution_count": 51,
   "id": "1e2cf648",
   "metadata": {
    "scrolled": true
   },
   "outputs": [
    {
     "name": "stdout",
     "output_type": "stream",
     "text": [
      "\n",
      "PIAIC Result Card\n",
      "name: Hassaan Mehmood\n",
      "father_name: mehmood akhter\n",
      "Education: MBA\n",
      "str(Age): 38\n",
      "\n"
     ]
    }
   ],
   "source": [
    " data = \"\"\"\n",
    "PIAIC Result Card\n",
    " name: {0}\n",
    " father_name: {1}\n",
    " Education: {2}\n",
    " str(Age): {3}\n",
    "\"\"\".format(name, father_name, Education, Age)\n",
    "print(data) # .format method"
   ]
  },
  {
   "cell_type": "code",
   "execution_count": 53,
   "id": "710fe711",
   "metadata": {},
   "outputs": [
    {
     "name": "stdout",
     "output_type": "stream",
     "text": [
      "\n",
      "PIAIC Result Card\n",
      " name: Hassaan Mehmood\n",
      " father_name: mehmood akhter\n",
      " Education: MBA\n",
      " str(Age): 38\n",
      "\n"
     ]
    }
   ],
   "source": [
    "data = f\"\"\"\n",
    "PIAIC Result Card\n",
    " name: {name}\n",
    " father_name: {father_name}\n",
    " Education: {Education}\n",
    " str(Age): {Age}\n",
    "\"\"\"\n",
    "print(data) # f method"
   ]
  },
  {
   "cell_type": "markdown",
   "id": "395f3c63",
   "metadata": {},
   "source": [
    "# string methods"
   ]
  },
  {
   "cell_type": "code",
   "execution_count": 8,
   "id": "8f540d9f",
   "metadata": {},
   "outputs": [
    {
     "name": "stdout",
     "output_type": "stream",
     "text": [
      "('Hassaan Mehmood', 'mehmood akhter', 'MBA', 38)\n"
     ]
    }
   ],
   "source": [
    "name = \"Hassaan Mehmood\"\n",
    "father_name = \"mehmood akhter\"\n",
    "Education = \"MBA\"\n",
    "Age = 38\n",
    "data = (name, father_name, Education, Age)\n",
    "print(data)"
   ]
  },
  {
   "cell_type": "code",
   "execution_count": 9,
   "id": "192496ac",
   "metadata": {},
   "outputs": [
    {
     "data": {
      "text/plain": [
       "('Hassaan Mehmood', 'mehmood akhter', 'MBA', 38)"
      ]
     },
     "execution_count": 9,
     "metadata": {},
     "output_type": "execute_result"
    }
   ],
   "source": [
    "data"
   ]
  },
  {
   "cell_type": "code",
   "execution_count": 13,
   "id": "79479228",
   "metadata": {},
   "outputs": [
    {
     "data": {
      "text/plain": [
       "'Hassaan mehmood'"
      ]
     },
     "execution_count": 13,
     "metadata": {},
     "output_type": "execute_result"
    }
   ],
   "source": [
    "name = \"hassaan mehmood\"\n",
    "name.capitalize()\n"
   ]
  },
  {
   "cell_type": "code",
   "execution_count": 14,
   "id": "1633df5a",
   "metadata": {},
   "outputs": [
    {
     "data": {
      "text/plain": [
       "'hassaan mehmood'"
      ]
     },
     "execution_count": 14,
     "metadata": {},
     "output_type": "execute_result"
    }
   ],
   "source": [
    "name = \"Hassaan Mehmood\"\n",
    "name.casefold()"
   ]
  },
  {
   "cell_type": "code",
   "execution_count": 2,
   "id": "8e384306",
   "metadata": {},
   "outputs": [
    {
     "data": {
      "text/plain": [
       "'                 hassaan mehmood                  '"
      ]
     },
     "execution_count": 2,
     "metadata": {},
     "output_type": "execute_result"
    }
   ],
   "source": [
    "name = \"hassaan mehmood\"\n",
    "name.center(50)"
   ]
  },
  {
   "cell_type": "code",
   "execution_count": 8,
   "id": "95b70395",
   "metadata": {},
   "outputs": [
    {
     "name": "stdout",
     "output_type": "stream",
     "text": [
      "1\n"
     ]
    }
   ],
   "source": [
    "print(name.count(\"hassaan\"))"
   ]
  },
  {
   "cell_type": "code",
   "execution_count": 9,
   "id": "999396ac",
   "metadata": {},
   "outputs": [
    {
     "name": "stdout",
     "output_type": "stream",
     "text": [
      "1\n"
     ]
    }
   ],
   "source": [
    "print(name.count(\"mehmood\"))"
   ]
  },
  {
   "cell_type": "code",
   "execution_count": 1,
   "id": "308f5598",
   "metadata": {},
   "outputs": [
    {
     "name": "stdout",
     "output_type": "stream",
     "text": [
      "hassaan mehmood\n"
     ]
    }
   ],
   "source": [
    "name = \"hassaan mehmood\"\n",
    "print(name)"
   ]
  },
  {
   "cell_type": "code",
   "execution_count": 4,
   "id": "8870e65c",
   "metadata": {},
   "outputs": [
    {
     "data": {
      "text/plain": [
       "b'hassaan mehmood'"
      ]
     },
     "execution_count": 4,
     "metadata": {},
     "output_type": "execute_result"
    }
   ],
   "source": [
    "name.encode(\"utf-8\")"
   ]
  },
  {
   "cell_type": "code",
   "execution_count": 5,
   "id": "a148d6a8",
   "metadata": {},
   "outputs": [
    {
     "data": {
      "text/plain": [
       "True"
      ]
     },
     "execution_count": 5,
     "metadata": {},
     "output_type": "execute_result"
    }
   ],
   "source": [
    "name.endswith(\"ood\")"
   ]
  },
  {
   "cell_type": "code",
   "execution_count": 11,
   "id": "eba6a3bd",
   "metadata": {},
   "outputs": [
    {
     "name": "stdout",
     "output_type": "stream",
     "text": [
      "\n",
      "name: \t Hassaan Mehmood\n",
      "father_name: \t mehmood akhter\n",
      "Education: \t MBA\n",
      "Age: 38\n",
      "\n"
     ]
    }
   ],
   "source": [
    "data = \"\"\"\n",
    "name: \\t Hassaan Mehmood\n",
    "father_name: \\t mehmood akhter\n",
    "Education: \\t MBA\n",
    "Age: 38\n",
    "\"\"\"\n",
    "print(data)\n"
   ]
  },
  {
   "cell_type": "code",
   "execution_count": 13,
   "id": "5593d51c",
   "metadata": {},
   "outputs": [
    {
     "name": "stdout",
     "output_type": "stream",
     "text": [
      "\n",
      "name:                Hassaan Mehmood\n",
      "father_name:         mehmood akhter\n",
      "Education:           MBA\n",
      "Age: 38\n",
      "\n"
     ]
    }
   ],
   "source": [
    "print(data.expandtabs(20))"
   ]
  },
  {
   "cell_type": "code",
   "execution_count": 16,
   "id": "2e16208a",
   "metadata": {},
   "outputs": [
    {
     "name": "stdout",
     "output_type": "stream",
     "text": [
      "0\n"
     ]
    }
   ],
   "source": [
    "print(name.find(\"ha\"))"
   ]
  },
  {
   "cell_type": "code",
   "execution_count": 15,
   "id": "96d7aacb",
   "metadata": {},
   "outputs": [
    {
     "data": {
      "text/plain": [
       "10"
      ]
     },
     "execution_count": 15,
     "metadata": {},
     "output_type": "execute_result"
    }
   ],
   "source": [
    "name.find(\"hm\")"
   ]
  },
  {
   "cell_type": "code",
   "execution_count": 20,
   "id": "56327f58",
   "metadata": {},
   "outputs": [
    {
     "name": "stdout",
     "output_type": "stream",
     "text": [
      "name: Hassaan \n",
      " brother_name: Huzaifa\n"
     ]
    }
   ],
   "source": [
    "records = {\"x\":\"Hassaan\",\"y\":\"Huzaifa\"}\n",
    "print(\"name: {x} \\n brother_name: {y}\".format_map(records))"
   ]
  },
  {
   "cell_type": "code",
   "execution_count": 22,
   "id": "96492a9a",
   "metadata": {},
   "outputs": [
    {
     "name": "stdout",
     "output_type": "stream",
     "text": [
      "name:hashim \n",
      " brother_name:huzaifa\n",
      " brother_name:hassaan\n"
     ]
    }
   ],
   "source": [
    "names = {\"x\":\"hashim\",\"y\":\"huzaifa\" ,\"z\":\"hassaan\"}\n",
    "print(\"name:{x} \\n brother_name:{y}\\n brother_name:{z}\".format_map(names))"
   ]
  },
  {
   "cell_type": "code",
   "execution_count": 23,
   "id": "034d6224",
   "metadata": {},
   "outputs": [
    {
     "name": "stdout",
     "output_type": "stream",
     "text": [
      "hashim mehmood\n"
     ]
    }
   ],
   "source": [
    "name = \"hashim mehmood\"\n",
    "print(name)"
   ]
  },
  {
   "cell_type": "code",
   "execution_count": 25,
   "id": "50605b9a",
   "metadata": {},
   "outputs": [
    {
     "data": {
      "text/plain": [
       "False"
      ]
     },
     "execution_count": 25,
     "metadata": {},
     "output_type": "execute_result"
    }
   ],
   "source": [
    "name.isalnum()"
   ]
  },
  {
   "cell_type": "code",
   "execution_count": 27,
   "id": "203abf04",
   "metadata": {},
   "outputs": [
    {
     "data": {
      "text/plain": [
       "False"
      ]
     },
     "execution_count": 27,
     "metadata": {},
     "output_type": "execute_result"
    }
   ],
   "source": [
    "name = \"hashim mehmood\"\n",
    "name.isalpha()"
   ]
  },
  {
   "cell_type": "code",
   "execution_count": 29,
   "id": "1c72a1e3",
   "metadata": {},
   "outputs": [
    {
     "data": {
      "text/plain": [
       "True"
      ]
     },
     "execution_count": 29,
     "metadata": {},
     "output_type": "execute_result"
    }
   ],
   "source": [
    "name = \"urdu\"\n",
    "name.isascii()"
   ]
  },
  {
   "cell_type": "code",
   "execution_count": 30,
   "id": "d8a4e21e",
   "metadata": {},
   "outputs": [
    {
     "data": {
      "text/plain": [
       "False"
      ]
     },
     "execution_count": 30,
     "metadata": {},
     "output_type": "execute_result"
    }
   ],
   "source": [
    "name = \"hashim mehmood\"\n",
    "name.isdecimal()"
   ]
  },
  {
   "cell_type": "code",
   "execution_count": 31,
   "id": "dc28afc2",
   "metadata": {},
   "outputs": [
    {
     "data": {
      "text/plain": [
       "False"
      ]
     },
     "execution_count": 31,
     "metadata": {},
     "output_type": "execute_result"
    }
   ],
   "source": [
    "name = \"hashim mehmood\"\n",
    "name.isdigit()"
   ]
  },
  {
   "cell_type": "code",
   "execution_count": 33,
   "id": "a35222ce",
   "metadata": {},
   "outputs": [
    {
     "data": {
      "text/plain": [
       "'hashim mehmood'"
      ]
     },
     "execution_count": 33,
     "metadata": {},
     "output_type": "execute_result"
    }
   ],
   "source": [
    "name = \"hasHim mEhMood\"\n",
    "name.lower()"
   ]
  },
  {
   "cell_type": "code",
   "execution_count": 34,
   "id": "7da30cca",
   "metadata": {},
   "outputs": [
    {
     "data": {
      "text/plain": [
       "True"
      ]
     },
     "execution_count": 34,
     "metadata": {},
     "output_type": "execute_result"
    }
   ],
   "source": [
    "name = \"hashim mehmood\"\n",
    "name.islower()"
   ]
  },
  {
   "cell_type": "code",
   "execution_count": 35,
   "id": "ae4c8028",
   "metadata": {},
   "outputs": [
    {
     "data": {
      "text/plain": [
       "'hashim mehmood    '"
      ]
     },
     "execution_count": 35,
     "metadata": {},
     "output_type": "execute_result"
    }
   ],
   "source": [
    "name = \"      hashim mehmood    \"\n",
    "name.lstrip()"
   ]
  },
  {
   "cell_type": "code",
   "execution_count": 36,
   "id": "d6a7d5ba",
   "metadata": {},
   "outputs": [
    {
     "data": {
      "text/plain": [
       "['__add__',\n",
       " '__class__',\n",
       " '__contains__',\n",
       " '__delattr__',\n",
       " '__dir__',\n",
       " '__doc__',\n",
       " '__eq__',\n",
       " '__format__',\n",
       " '__ge__',\n",
       " '__getattribute__',\n",
       " '__getitem__',\n",
       " '__getnewargs__',\n",
       " '__gt__',\n",
       " '__hash__',\n",
       " '__init__',\n",
       " '__init_subclass__',\n",
       " '__iter__',\n",
       " '__le__',\n",
       " '__len__',\n",
       " '__lt__',\n",
       " '__mod__',\n",
       " '__mul__',\n",
       " '__ne__',\n",
       " '__new__',\n",
       " '__reduce__',\n",
       " '__reduce_ex__',\n",
       " '__repr__',\n",
       " '__rmod__',\n",
       " '__rmul__',\n",
       " '__setattr__',\n",
       " '__sizeof__',\n",
       " '__str__',\n",
       " '__subclasshook__',\n",
       " 'capitalize',\n",
       " 'casefold',\n",
       " 'center',\n",
       " 'count',\n",
       " 'encode',\n",
       " 'endswith',\n",
       " 'expandtabs',\n",
       " 'find',\n",
       " 'format',\n",
       " 'format_map',\n",
       " 'index',\n",
       " 'isalnum',\n",
       " 'isalpha',\n",
       " 'isascii',\n",
       " 'isdecimal',\n",
       " 'isdigit',\n",
       " 'isidentifier',\n",
       " 'islower',\n",
       " 'isnumeric',\n",
       " 'isprintable',\n",
       " 'isspace',\n",
       " 'istitle',\n",
       " 'isupper',\n",
       " 'join',\n",
       " 'ljust',\n",
       " 'lower',\n",
       " 'lstrip',\n",
       " 'maketrans',\n",
       " 'partition',\n",
       " 'removeprefix',\n",
       " 'removesuffix',\n",
       " 'replace',\n",
       " 'rfind',\n",
       " 'rindex',\n",
       " 'rjust',\n",
       " 'rpartition',\n",
       " 'rsplit',\n",
       " 'rstrip',\n",
       " 'split',\n",
       " 'splitlines',\n",
       " 'startswith',\n",
       " 'strip',\n",
       " 'swapcase',\n",
       " 'title',\n",
       " 'translate',\n",
       " 'upper',\n",
       " 'zfill']"
      ]
     },
     "execution_count": 36,
     "metadata": {},
     "output_type": "execute_result"
    }
   ],
   "source": [
    "dir(name)"
   ]
  },
  {
   "cell_type": "code",
   "execution_count": null,
   "id": "f52a550b",
   "metadata": {},
   "outputs": [],
   "source": []
  }
 ],
 "metadata": {
  "kernelspec": {
   "display_name": "Python 3 (ipykernel)",
   "language": "python",
   "name": "python3"
  },
  "language_info": {
   "codemirror_mode": {
    "name": "ipython",
    "version": 3
   },
   "file_extension": ".py",
   "mimetype": "text/x-python",
   "name": "python",
   "nbconvert_exporter": "python",
   "pygments_lexer": "ipython3",
   "version": "3.9.12"
  }
 },
 "nbformat": 4,
 "nbformat_minor": 5
}
