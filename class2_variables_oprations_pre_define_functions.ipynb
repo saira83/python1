{
 "cells": [
  {
   "cell_type": "markdown",
   "id": "582d9030",
   "metadata": {},
   "source": [
    "# use of operators"
   ]
  },
  {
   "cell_type": "code",
   "execution_count": 2,
   "id": "80906a69",
   "metadata": {},
   "outputs": [
    {
     "name": "stdout",
     "output_type": "stream",
     "text": [
      "10\n"
     ]
    }
   ],
   "source": [
    "print(3+7)"
   ]
  },
  {
   "cell_type": "code",
   "execution_count": 4,
   "id": "c812ad82",
   "metadata": {},
   "outputs": [
    {
     "name": "stdout",
     "output_type": "stream",
     "text": [
      "4\n"
     ]
    }
   ],
   "source": [
    "print(7-3)"
   ]
  },
  {
   "cell_type": "code",
   "execution_count": 5,
   "id": "666dc773",
   "metadata": {},
   "outputs": [
    {
     "name": "stdout",
     "output_type": "stream",
     "text": [
      "10\n"
     ]
    }
   ],
   "source": [
    "print(5*2)"
   ]
  },
  {
   "cell_type": "code",
   "execution_count": 6,
   "id": "70083a75",
   "metadata": {},
   "outputs": [
    {
     "name": "stdout",
     "output_type": "stream",
     "text": [
      "25\n"
     ]
    }
   ],
   "source": [
    "print(5**2)  #power"
   ]
  },
  {
   "cell_type": "code",
   "execution_count": 7,
   "id": "67db8a6a",
   "metadata": {},
   "outputs": [
    {
     "name": "stdout",
     "output_type": "stream",
     "text": [
      "5.0\n"
     ]
    }
   ],
   "source": [
    "print(10/2)  #float"
   ]
  },
  {
   "cell_type": "code",
   "execution_count": 9,
   "id": "698a3cd4",
   "metadata": {},
   "outputs": [
    {
     "name": "stdout",
     "output_type": "stream",
     "text": [
      "5\n"
     ]
    }
   ],
   "source": [
    "print(10//2)  #floor division"
   ]
  },
  {
   "cell_type": "code",
   "execution_count": 10,
   "id": "e49c6a29",
   "metadata": {},
   "outputs": [
    {
     "name": "stdout",
     "output_type": "stream",
     "text": [
      "2\n"
     ]
    }
   ],
   "source": [
    "print(11%3) # modules (remainder value)"
   ]
  },
  {
   "cell_type": "markdown",
   "id": "ecc84055",
   "metadata": {},
   "source": [
    "# variables"
   ]
  },
  {
   "cell_type": "code",
   "execution_count": null,
   "id": "379e8db9",
   "metadata": {},
   "outputs": [],
   "source": [
    "#### equal operator\n",
    "assign any value to variable (placeholder)\n",
    "syntax:\n",
    "''' variable_name = value'''\n"
   ]
  },
  {
   "cell_type": "code",
   "execution_count": 11,
   "id": "a32d8301",
   "metadata": {},
   "outputs": [
    {
     "name": "stdout",
     "output_type": "stream",
     "text": [
      "PIAIC\n",
      "36/37\n",
      "muhammad Qasim\n"
     ]
    }
   ],
   "source": [
    "school = \"PIAIC\"\n",
    "batch = \"36/37\"\n",
    "teacher = \"muhammad Qasim\"\n",
    "\n",
    "print(school)\n",
    "print(batch)\n",
    "print(teacher)"
   ]
  },
  {
   "cell_type": "code",
   "execution_count": 12,
   "id": "7c2d76c6",
   "metadata": {},
   "outputs": [
    {
     "name": "stdout",
     "output_type": "stream",
     "text": [
      "PIAIC 36/37 muhammad Qasim\n"
     ]
    }
   ],
   "source": [
    "print(school, batch, teacher)"
   ]
  },
  {
   "cell_type": "code",
   "execution_count": 2,
   "id": "4fa78a30",
   "metadata": {},
   "outputs": [
    {
     "name": "stdout",
     "output_type": "stream",
     "text": [
      "PIAIC\n",
      "36/37\n",
      "muhammad Qasim\n",
      "PIAIC\n",
      "36/37\n",
      "muhammad Qasim\n",
      "PIAIC\n",
      "36/37\n",
      "muhammad Qasim\n"
     ]
    }
   ],
   "source": [
    "print(school)\n",
    "print(batch)\n",
    "print(teacher)\n",
    "print(school)\n",
    "print(batch)\n",
    "print(teacher)\n",
    "print(school)\n",
    "print(batch)\n",
    "print(teacher)"
   ]
  },
  {
   "cell_type": "markdown",
   "id": "80fa76d2",
   "metadata": {},
   "source": [
    "# use some pre-defined function\n",
    "*print()\n",
    "*type()\n",
    "*id()\n",
    "*len()"
   ]
  },
  {
   "cell_type": "code",
   "execution_count": 5,
   "id": "7a5df65c",
   "metadata": {},
   "outputs": [
    {
     "name": "stdout",
     "output_type": "stream",
     "text": [
      "<class 'str'>\n",
      "<class 'str'>\n",
      "<class 'str'>\n"
     ]
    }
   ],
   "source": [
    "school = \"PIAIC\"\n",
    "batch = \"36/37\"\n",
    "teacher = \"muhammad Qasim\"\n",
    "print(type(school)) ## T find the data type\n",
    "print(type(batch))\n",
    "print(type(teacher))\n"
   ]
  },
  {
   "cell_type": "code",
   "execution_count": 6,
   "id": "ac9900fe",
   "metadata": {},
   "outputs": [
    {
     "name": "stdout",
     "output_type": "stream",
     "text": [
      "2276997478640\n",
      "2276997475888\n",
      "2276997790192\n"
     ]
    }
   ],
   "source": [
    "print(id(school)) ## to find the id or memory address of data\n",
    "print(id(batch))\n",
    "print(id(teacher))"
   ]
  },
  {
   "cell_type": "code",
   "execution_count": 7,
   "id": "b3ba41aa",
   "metadata": {},
   "outputs": [
    {
     "name": "stdout",
     "output_type": "stream",
     "text": [
      "5\n",
      "5\n",
      "14\n"
     ]
    }
   ],
   "source": [
    "print(len(school))  ## to find the length of character or data\n",
    "print(len(batch))\n",
    "print(len(teacher))"
   ]
  },
  {
   "cell_type": "code",
   "execution_count": 8,
   "id": "04e6bdc3",
   "metadata": {},
   "outputs": [
    {
     "name": "stdout",
     "output_type": "stream",
     "text": [
      "<class 'str'>\n",
      "2276997475888\n",
      "14\n"
     ]
    }
   ],
   "source": [
    "print(type(school)) \n",
    "print(id(batch))\n",
    "print(len(teacher))"
   ]
  },
  {
   "cell_type": "code",
   "execution_count": null,
   "id": "80cde010",
   "metadata": {},
   "outputs": [],
   "source": []
  }
 ],
 "metadata": {
  "kernelspec": {
   "display_name": "Python 3 (ipykernel)",
   "language": "python",
   "name": "python3"
  },
  "language_info": {
   "codemirror_mode": {
    "name": "ipython",
    "version": 3
   },
   "file_extension": ".py",
   "mimetype": "text/x-python",
   "name": "python",
   "nbconvert_exporter": "python",
   "pygments_lexer": "ipython3",
   "version": "3.9.12"
  }
 },
 "nbformat": 4,
 "nbformat_minor": 5
}
