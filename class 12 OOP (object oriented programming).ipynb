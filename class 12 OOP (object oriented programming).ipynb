{
 "cells": [
  {
   "cell_type": "markdown",
   "id": "b6fd2915",
   "metadata": {},
   "source": [
    "# oop\n",
    "* object\n",
    "  * everything in the world which has name is called object\n",
    "      *method (function, prcedure, sub routine)\n",
    "         *must be chang some attribute\n",
    "         * or return something\n",
    "      *attributes(properties, fields, characterstics)\n",
    "         * store some values for particular time\n",
    "        \n",
    "# class\n",
    "  * blue print\n",
    "  * capatalize each word (classname) 'class Class():pass'\n",
    "  * constructor\n",
    "     * always call when we create new object"
   ]
  },
  {
   "cell_type": "markdown",
   "id": "d1845850",
   "metadata": {},
   "source": [
    "# linear programming"
   ]
  },
  {
   "cell_type": "code",
   "execution_count": null,
   "id": "82574a2e",
   "metadata": {},
   "outputs": [],
   "source": [
    "huzaifa_name = \"huzaif\"\n",
    "huzaif_fname = \"mehmood akhter\"\n",
    "haifa_education = \"primary\"\n",
    "\n",
    "def hzaifa_speak():pass\n",
    "def huzaif_run():pass\n",
    "def huzaifa_eats():pas\n",
    "    \n",
    "hassan_name = \"hassaan\"\n",
    "hassan_fname = \"mehmood akhter\"\n",
    "hssaan_education = \"primary\"\n",
    "\n",
    "def hassaan_speak():pass\n",
    "def hassan_run():pass\n",
    "def hassaan _eats():pas\n"
   ]
  },
  {
   "cell_type": "code",
   "execution_count": null,
   "id": "f33a160f",
   "metadata": {},
   "outputs": [],
   "source": [
    "# oop\n",
    " * compress code\n",
    " * les computing power/ lss storage consume\n",
    " * coe managemet too much easy\n"
   ]
  },
  {
   "cell_type": "code",
   "execution_count": 32,
   "id": "58521aac",
   "metadata": {},
   "outputs": [
    {
     "ename": "IndentationError",
     "evalue": "unexpected indent (1739119182.py, line 2)",
     "output_type": "error",
     "traceback": [
      "\u001b[1;36m  Input \u001b[1;32mIn [32]\u001b[1;36m\u001b[0m\n\u001b[1;33m    * blue print/model /structure/template\u001b[0m\n\u001b[1;37m    ^\u001b[0m\n\u001b[1;31mIndentationError\u001b[0m\u001b[1;31m:\u001b[0m unexpected indent\n"
     ]
    }
   ],
   "source": [
    "# class\n",
    "  * blue print/model /structure/template\n",
    "  * capatalize each word (classname)\n",
    "  * constructor\n",
    "     * always call when we create new object\n",
    "     * old programming language\n",
    "        * same function name as class \n",
    "     *python\n",
    "        * def ___init__(self):\n",
    "        * first argument\n",
    "        * first agument should be any name\n",
    "           * always keep this during creating time\n",
    "           * but always ignore duing calling\n",
    "           * always manage each object with individual memory blocks\n",
    "           * self\n",
    "           * this\n",
    "           * abc\n",
    "           * xyz\n",
    "        * all atribute should be write in constructor body\n",
    "           * 'self.attribute_name' # with in the class\n",
    "  * destructore\n",
    "     * always call when we delete object\n",
    "     \n",
    "* method\n",
    "  * 'def method_name (self,arg1,arg2,...):pass\n",
    "  * calling time we ignore self\n",
    "  * object action performed\n",
    "     * alwys retturn somthing or change some attribute value\n",
    "* attributes\n",
    "* class variable"
   ]
  },
  {
   "cell_type": "code",
   "execution_count": 92,
   "id": "82c5a5a3",
   "metadata": {},
   "outputs": [],
   "source": [
    "class student(): # class\n",
    "    def __init__(self, sid, sname):# constructore method\n",
    "        self.id = sid # self.attributes_name = constructore_local_vriable         \n",
    "        self.name = sname #attribute\n",
    "        self.education = None #None is a data type\n",
    "        self.address = None # attribute\n",
    "        self.age = None # attribute\n",
    "        self.user = sname\n",
    "        self.password = \"123\"\n",
    "    def login(self,user,pws): # method\n",
    "        if self.user == user and self.password == pws: \n",
    "            return \"Valid user\"\n",
    "        else:\n",
    "            return \"not Valid user\"\n",
    "    def display_information(self):\n",
    "        cards = f\"\"\"\n",
    "        PIAIC student card\n",
    "        Registration no: {self.id}\n",
    "        name: {self.name}\n",
    "        eduction : {self.education}\n",
    "        \"\"\"\n",
    "        return cards\n",
    "    "
   ]
  },
  {
   "cell_type": "code",
   "execution_count": 93,
   "id": "1b177607",
   "metadata": {},
   "outputs": [],
   "source": [
    "s1 = student(1,\"saira\")# className(arg1,arg2,...) we ignore self argument\n",
    "s2 = student(2,\"fareeha\")\n",
    "s3 = student(3,\"irha\")"
   ]
  },
  {
   "cell_type": "code",
   "execution_count": 94,
   "id": "93b2c683",
   "metadata": {},
   "outputs": [
    {
     "name": "stdout",
     "output_type": "stream",
     "text": [
      "saira\n",
      "fareeha\n",
      "irha\n"
     ]
    }
   ],
   "source": [
    "print(s1.name)\n",
    "print(s2.name)\n",
    "print(s3.name)"
   ]
  },
  {
   "cell_type": "code",
   "execution_count": 95,
   "id": "df0f3e4b",
   "metadata": {},
   "outputs": [
    {
     "name": "stdout",
     "output_type": "stream",
     "text": [
      "saira 1\n",
      "fareeha 2\n",
      "irha 3\n"
     ]
    }
   ],
   "source": [
    "print(s1.name, s1.id)\n",
    "print(s2.name, s2.id)\n",
    "print(s3.name, s3.id)"
   ]
  },
  {
   "cell_type": "code",
   "execution_count": 96,
   "id": "bc390b00",
   "metadata": {},
   "outputs": [
    {
     "data": {
      "text/plain": [
       "'Valid user'"
      ]
     },
     "execution_count": 96,
     "metadata": {},
     "output_type": "execute_result"
    }
   ],
   "source": [
    "s2.login(\"fareeha\",\"123\")"
   ]
  },
  {
   "cell_type": "code",
   "execution_count": 97,
   "id": "38832ef7",
   "metadata": {},
   "outputs": [
    {
     "data": {
      "text/plain": [
       "'Valid user'"
      ]
     },
     "execution_count": 97,
     "metadata": {},
     "output_type": "execute_result"
    }
   ],
   "source": [
    "s3.login(\"irha\",\"123\")"
   ]
  },
  {
   "cell_type": "code",
   "execution_count": 98,
   "id": "2d669194",
   "metadata": {},
   "outputs": [
    {
     "data": {
      "text/plain": [
       "'Valid user'"
      ]
     },
     "execution_count": 98,
     "metadata": {},
     "output_type": "execute_result"
    }
   ],
   "source": [
    "s1.login(\"saira\",\"123\")"
   ]
  },
  {
   "cell_type": "code",
   "execution_count": 99,
   "id": "87c4c661",
   "metadata": {},
   "outputs": [
    {
     "data": {
      "text/plain": [
       "'\\n        PIAIC student card\\n        Registration no: 1\\n        name: saira\\n        eduction : None\\n        '"
      ]
     },
     "execution_count": 99,
     "metadata": {},
     "output_type": "execute_result"
    }
   ],
   "source": [
    "s1.display_information()"
   ]
  },
  {
   "cell_type": "code",
   "execution_count": 100,
   "id": "75a9150f",
   "metadata": {},
   "outputs": [
    {
     "name": "stdout",
     "output_type": "stream",
     "text": [
      "\n",
      "        PIAIC student card\n",
      "        Registration no: 1\n",
      "        name: saira\n",
      "        eduction : None\n",
      "        \n"
     ]
    }
   ],
   "source": [
    "print(s1.display_information())"
   ]
  },
  {
   "cell_type": "code",
   "execution_count": 101,
   "id": "ce4cc1ef",
   "metadata": {},
   "outputs": [],
   "source": [
    "s1.education = \"MBA\" # to add new atributes we use this metod"
   ]
  },
  {
   "cell_type": "code",
   "execution_count": 102,
   "id": "4adfb452",
   "metadata": {},
   "outputs": [
    {
     "name": "stdout",
     "output_type": "stream",
     "text": [
      "\n",
      "        PIAIC student card\n",
      "        Registration no: 1\n",
      "        name: saira\n",
      "        eduction : MBA\n",
      "        \n"
     ]
    }
   ],
   "source": [
    "print(s1.display_information())# updated info"
   ]
  },
  {
   "cell_type": "code",
   "execution_count": 77,
   "id": "094ca0f9",
   "metadata": {},
   "outputs": [
    {
     "data": {
      "text/plain": [
       "['__add__',\n",
       " '__class__',\n",
       " '__contains__',\n",
       " '__delattr__',\n",
       " '__dir__',\n",
       " '__doc__',\n",
       " '__eq__',\n",
       " '__format__',\n",
       " '__ge__',\n",
       " '__getattribute__',\n",
       " '__getitem__',\n",
       " '__getnewargs__',\n",
       " '__gt__',\n",
       " '__hash__',\n",
       " '__init__',\n",
       " '__init_subclass__',\n",
       " '__iter__',\n",
       " '__le__',\n",
       " '__len__',\n",
       " '__lt__',\n",
       " '__mod__',\n",
       " '__mul__',\n",
       " '__ne__',\n",
       " '__new__',\n",
       " '__reduce__',\n",
       " '__reduce_ex__',\n",
       " '__repr__',\n",
       " '__rmod__',\n",
       " '__rmul__',\n",
       " '__setattr__',\n",
       " '__sizeof__',\n",
       " '__str__',\n",
       " '__subclasshook__',\n",
       " 'capitalize',\n",
       " 'casefold',\n",
       " 'center',\n",
       " 'count',\n",
       " 'encode',\n",
       " 'endswith',\n",
       " 'expandtabs',\n",
       " 'find',\n",
       " 'format',\n",
       " 'format_map',\n",
       " 'index',\n",
       " 'isalnum',\n",
       " 'isalpha',\n",
       " 'isascii',\n",
       " 'isdecimal',\n",
       " 'isdigit',\n",
       " 'isidentifier',\n",
       " 'islower',\n",
       " 'isnumeric',\n",
       " 'isprintable',\n",
       " 'isspace',\n",
       " 'istitle',\n",
       " 'isupper',\n",
       " 'join',\n",
       " 'ljust',\n",
       " 'lower',\n",
       " 'lstrip',\n",
       " 'maketrans',\n",
       " 'partition',\n",
       " 'removeprefix',\n",
       " 'removesuffix',\n",
       " 'replace',\n",
       " 'rfind',\n",
       " 'rindex',\n",
       " 'rjust',\n",
       " 'rpartition',\n",
       " 'rsplit',\n",
       " 'rstrip',\n",
       " 'split',\n",
       " 'splitlines',\n",
       " 'startswith',\n",
       " 'strip',\n",
       " 'swapcase',\n",
       " 'title',\n",
       " 'translate',\n",
       " 'upper',\n",
       " 'zfill']"
      ]
     },
     "execution_count": 77,
     "metadata": {},
     "output_type": "execute_result"
    }
   ],
   "source": [
    "dir(str)"
   ]
  },
  {
   "cell_type": "code",
   "execution_count": 78,
   "id": "834b47eb",
   "metadata": {},
   "outputs": [
    {
     "data": {
      "text/plain": [
       "['__class__',\n",
       " '__delattr__',\n",
       " '__dict__',\n",
       " '__dir__',\n",
       " '__doc__',\n",
       " '__eq__',\n",
       " '__format__',\n",
       " '__ge__',\n",
       " '__getattribute__',\n",
       " '__gt__',\n",
       " '__hash__',\n",
       " '__init__',\n",
       " '__init_subclass__',\n",
       " '__le__',\n",
       " '__lt__',\n",
       " '__module__',\n",
       " '__ne__',\n",
       " '__new__',\n",
       " '__reduce__',\n",
       " '__reduce_ex__',\n",
       " '__repr__',\n",
       " '__setattr__',\n",
       " '__sizeof__',\n",
       " '__str__',\n",
       " '__subclasshook__',\n",
       " '__weakref__',\n",
       " 'display_information',\n",
       " 'login']"
      ]
     },
     "execution_count": 78,
     "metadata": {},
     "output_type": "execute_result"
    }
   ],
   "source": [
    "dir(student)"
   ]
  },
  {
   "cell_type": "code",
   "execution_count": 79,
   "id": "2b941e27",
   "metadata": {},
   "outputs": [
    {
     "data": {
      "text/plain": [
       "['__class__',\n",
       " '__delattr__',\n",
       " '__dict__',\n",
       " '__dir__',\n",
       " '__doc__',\n",
       " '__eq__',\n",
       " '__format__',\n",
       " '__ge__',\n",
       " '__getattribute__',\n",
       " '__gt__',\n",
       " '__hash__',\n",
       " '__init__',\n",
       " '__init_subclass__',\n",
       " '__le__',\n",
       " '__lt__',\n",
       " '__module__',\n",
       " '__ne__',\n",
       " '__new__',\n",
       " '__reduce__',\n",
       " '__reduce_ex__',\n",
       " '__repr__',\n",
       " '__setattr__',\n",
       " '__sizeof__',\n",
       " '__str__',\n",
       " '__subclasshook__',\n",
       " '__weakref__',\n",
       " 'address',\n",
       " 'age',\n",
       " 'display_information',\n",
       " 'education',\n",
       " 'id',\n",
       " 'login',\n",
       " 'name',\n",
       " 'password',\n",
       " 'user']"
      ]
     },
     "execution_count": 79,
     "metadata": {},
     "output_type": "execute_result"
    }
   ],
   "source": [
    "dir(s1)"
   ]
  },
  {
   "cell_type": "code",
   "execution_count": 103,
   "id": "6c59fc07",
   "metadata": {},
   "outputs": [
    {
     "data": {
      "text/plain": [
       "['address', 'age', 'education', 'id', 'login', 'name', 'password', 'user']"
      ]
     },
     "execution_count": 103,
     "metadata": {},
     "output_type": "execute_result"
    }
   ],
   "source": [
    "[i for i in dir(s1) if \"_\" not in i]\n"
   ]
  },
  {
   "cell_type": "code",
   "execution_count": 104,
   "id": "73d372dd",
   "metadata": {},
   "outputs": [
    {
     "name": "stdout",
     "output_type": "stream",
     "text": [
      "['address', 'age', 'education', 'id', 'login', 'name', 'password', 'user']\n",
      "['address', 'age', 'education', 'id', 'login', 'name', 'password', 'user']\n",
      "['address', 'age', 'education', 'id', 'login', 'name', 'password', 'user']\n"
     ]
    }
   ],
   "source": [
    "print([i for i in dir(s1) if \"_\" not in i])\n",
    "print([i for i in dir(s2) if \"_\" not in i])\n",
    "print([i for i in dir(s3) if \"_\" not in i])"
   ]
  },
  {
   "cell_type": "markdown",
   "id": "1a68ed49",
   "metadata": {},
   "source": [
    "# class variable\n",
    "* always creat in class body\n",
    "* calling 'ClassName.variable_name\n",
    "* always same value"
   ]
  },
  {
   "cell_type": "code",
   "execution_count": 8,
   "id": "1f6ab8aa",
   "metadata": {},
   "outputs": [],
   "source": [
    "class student(): # class\n",
    "    counter = 0\n",
    "    subject = \"Artificial intelligence\"\n",
    "    time = \"11:17\"\n",
    "    \n",
    "    def __init__(self, sid, sname):# constructore method\n",
    "        self.id = sid # self.attributes_name = constructore_local_vriable         \n",
    "        self.name = sname #attribute\n",
    "        self.education = None #None is a data type\n",
    "        self.address = None # attribute\n",
    "        self.age = None # attribute\n",
    "        self.user = sname\n",
    "        self.password = \"123\"\n",
    "        student.counter += 1 # calling class variable\n",
    "    def login(self,user,pws): # method\n",
    "        if self.user == user and self.password == pws: \n",
    "            return \"Valid user\"\n",
    "        else:\n",
    "            return \"not Valid user\"\n",
    "    def display_information(self):\n",
    "        cards = f\"\"\"\n",
    "        PIAIC student card\n",
    "        Registration no: {self.id}\n",
    "        name: {self.name}\n",
    "        eduction : {self.education}\n",
    "        \"\"\"\n",
    "        return cards\n",
    "    "
   ]
  },
  {
   "cell_type": "code",
   "execution_count": 9,
   "id": "2c472030",
   "metadata": {},
   "outputs": [
    {
     "name": "stdout",
     "output_type": "stream",
     "text": [
      "1 1 Artificial intelligence\n",
      "2 2 Artificial intelligence\n",
      "3 3 Artificial intelligence\n"
     ]
    }
   ],
   "source": [
    "s1 = student(1,\"saira\")\n",
    "print(student.counter, s1.counter, student.subject)\n",
    "s2 = student(2,\"fareeha\")\n",
    "print(student.counter, s1.counter, student.subject)\n",
    "s3 = student(3,\"irha\")\n",
    "print(student.counter, s1.counter, student.subject)"
   ]
  },
  {
   "cell_type": "code",
   "execution_count": 10,
   "id": "4ff63645",
   "metadata": {},
   "outputs": [
    {
     "name": "stdout",
     "output_type": "stream",
     "text": [
      "3\n",
      "3\n",
      "3\n",
      "3\n",
      "Artificial intelligence\n",
      "11:17\n"
     ]
    }
   ],
   "source": [
    "print(s1.counter)\n",
    "print(s2.counter)\n",
    "print(s3.counter)\n",
    "\n",
    "print(student.counter)\n",
    "print(student.subject)\n",
    "print(student.time)"
   ]
  },
  {
   "cell_type": "code",
   "execution_count": 11,
   "id": "898d73f9",
   "metadata": {},
   "outputs": [
    {
     "name": "stdout",
     "output_type": "stream",
     "text": [
      "11:17\n",
      "11:17\n",
      "11:17\n"
     ]
    }
   ],
   "source": [
    "print(s1.time)\n",
    "print(s2.time)\n",
    "print(s3.time)"
   ]
  },
  {
   "cell_type": "markdown",
   "id": "f9fa3400",
   "metadata": {},
   "source": [
    "# four pillars of oop\n",
    " * inheritance"
   ]
  },
  {
   "cell_type": "code",
   "execution_count": 12,
   "id": "fcd2043c",
   "metadata": {},
   "outputs": [],
   "source": [
    "class parent():\n",
    "    def __init__(self):\n",
    "        self.id = None\n",
    "        self.name = None\n",
    "        self.fname = None\n",
    "        \n",
    "    def eat(self,food):\n",
    "        return f\"{self.name} is eatng {food}\"\n",
    "    \n",
    "    def speak(self,words,language=\"urdu\"):\n",
    "        return f\"{words}. language= {language}\"\n",
    "\n",
    "class child(parent):\n",
    "    pass"
   ]
  },
  {
   "cell_type": "code",
   "execution_count": 13,
   "id": "6c45d1a7",
   "metadata": {},
   "outputs": [
    {
     "name": "stdout",
     "output_type": "stream",
     "text": [
      "huzaifa\n",
      "1\n",
      "mehmood\n",
      "huzaifa is eatng pizza\n"
     ]
    }
   ],
   "source": [
    "p1 = parent()\n",
    "p1.id = 1\n",
    "p1.name = \"huzaifa\"\n",
    "p1.fname = \"mehmood\"\n",
    "\n",
    "print(p1.name)\n",
    "print(p1.id)\n",
    "print(p1.fname)\n",
    "print(p1.eat(\"pizza\"))\n"
   ]
  },
  {
   "cell_type": "code",
   "execution_count": 14,
   "id": "b662f73f",
   "metadata": {},
   "outputs": [
    {
     "name": "stdout",
     "output_type": "stream",
     "text": [
      "hasaan\n",
      "1\n",
      "mehmood\n",
      "hasaan is eatng pizza\n"
     ]
    }
   ],
   "source": [
    "c1 = parent()\n",
    "c1.id = 1\n",
    "c1.name = \"hasaan\"\n",
    "c1.fname = \"mehmood\"\n",
    "\n",
    "print(c1.name)\n",
    "print(c1.id)\n",
    "print(c1.fname)\n",
    "print(c1.eat(\"pizza\"))"
   ]
  },
  {
   "cell_type": "code",
   "execution_count": 15,
   "id": "aaa80f1b",
   "metadata": {},
   "outputs": [
    {
     "ename": "SyntaxError",
     "evalue": "invalid syntax (616822171.py, line 1)",
     "output_type": "error",
     "traceback": [
      "\u001b[1;36m  Input \u001b[1;32mIn [15]\u001b[1;36m\u001b[0m\n\u001b[1;33m    https://peps.python.org/pep-0008/\u001b[0m\n\u001b[1;37m          ^\u001b[0m\n\u001b[1;31mSyntaxError\u001b[0m\u001b[1;31m:\u001b[0m invalid syntax\n"
     ]
    }
   ],
   "source": [
    "https://peps.python.org/pep-0008/"
   ]
  },
  {
   "cell_type": "markdown",
   "id": "7bcee648",
   "metadata": {},
   "source": [
    "## inheritance example 2\n",
    "### add some new mehods in child class"
   ]
  },
  {
   "cell_type": "code",
   "execution_count": 4,
   "id": "f5472a66",
   "metadata": {},
   "outputs": [],
   "source": [
    "class parent():\n",
    "    def __init__(self):\n",
    "        self.id = None\n",
    "        self.name = None\n",
    "        self.fname = None\n",
    "        \n",
    "    def eat(self,food):\n",
    "        return f\"{self,name} is eatng {food}\"\n",
    "    \n",
    "    def speak(self,words,language=\"urdu\"):\n",
    "        return f\"{words}. language= {language}\"\n",
    "\n",
    "class child(parent):\n",
    "    def walk(self, distance):\n",
    "        return f\"{self.name} has coverd {distance}\"\n",
    "    \n",
    "    def play(self, game):\n",
    "        return f\"{self.name} is playing {game}\"\n",
    "        "
   ]
  },
  {
   "cell_type": "code",
   "execution_count": 13,
   "id": "924882bc",
   "metadata": {},
   "outputs": [
    {
     "name": "stdout",
     "output_type": "stream",
     "text": [
      "['eat', 'fname', 'id', 'name', 'speak']\n"
     ]
    }
   ],
   "source": [
    "p1 = parent()\n",
    "print([i for i in dir(p1) if '_' not in i])# methods and attributes"
   ]
  },
  {
   "cell_type": "code",
   "execution_count": 14,
   "id": "92592ab8",
   "metadata": {},
   "outputs": [
    {
     "name": "stdout",
     "output_type": "stream",
     "text": [
      "['eat', 'fname', 'id', 'name', 'play', 'speak', 'walk']\n"
     ]
    }
   ],
   "source": [
    "c1 = child()\n",
    "print([i for i in dir(c1) if '_' not in i])# methods and attributes"
   ]
  },
  {
   "cell_type": "code",
   "execution_count": 15,
   "id": "e8240aab",
   "metadata": {},
   "outputs": [
    {
     "name": "stdout",
     "output_type": "stream",
     "text": [
      "huzaifa\n",
      "1\n",
      "mehmood\n",
      "huzaifa is eatng pizza\n"
     ]
    }
   ],
   "source": [
    "p1 = parent()\n",
    "p1.id = 1\n",
    "p1.name = \"huzaifa\"\n",
    "p1.fname = \"mehmood\"\n",
    "\n",
    "print(p1.name)\n",
    "print(p1.id)\n",
    "print(p1.fname)\n",
    "print(p1.eat(\"pizza\"))\n"
   ]
  },
  {
   "cell_type": "code",
   "execution_count": 16,
   "id": "5c7bffea",
   "metadata": {},
   "outputs": [
    {
     "ename": "AttributeError",
     "evalue": "'parent' object has no attribute 'play'",
     "output_type": "error",
     "traceback": [
      "\u001b[1;31m---------------------------------------------------------------------------\u001b[0m",
      "\u001b[1;31mAttributeError\u001b[0m                            Traceback (most recent call last)",
      "Input \u001b[1;32mIn [16]\u001b[0m, in \u001b[0;36m<cell line: 1>\u001b[1;34m()\u001b[0m\n\u001b[1;32m----> 1\u001b[0m \u001b[43mp1\u001b[49m\u001b[38;5;241;43m.\u001b[39;49m\u001b[43mplay\u001b[49m(\u001b[38;5;124m\"\u001b[39m\u001b[38;5;124mcricket\u001b[39m\u001b[38;5;124m\"\u001b[39m)\n",
      "\u001b[1;31mAttributeError\u001b[0m: 'parent' object has no attribute 'play'"
     ]
    }
   ],
   "source": [
    "p1.play(\"cricket\")"
   ]
  },
  {
   "cell_type": "code",
   "execution_count": 17,
   "id": "8dae8c88",
   "metadata": {},
   "outputs": [
    {
     "name": "stdout",
     "output_type": "stream",
     "text": [
      "hasaan\n",
      "1\n",
      "mehmood\n",
      "hasaan is eatng pizza\n"
     ]
    }
   ],
   "source": [
    "c1 = child()\n",
    "c1.id = 1\n",
    "c1.name = \"hasaan\"\n",
    "c1.fname = \"mehmood\"\n",
    "\n",
    "print(c1.name)\n",
    "print(c1.id)\n",
    "print(c1.fname)\n",
    "print(c1.eat(\"pizza\"))"
   ]
  },
  {
   "cell_type": "code",
   "execution_count": 18,
   "id": "c00e7b96",
   "metadata": {},
   "outputs": [
    {
     "data": {
      "text/plain": [
       "'hasaan is playing Cricket'"
      ]
     },
     "execution_count": 18,
     "metadata": {},
     "output_type": "execute_result"
    }
   ],
   "source": [
    "c1.play(\"Cricket\")"
   ]
  },
  {
   "cell_type": "code",
   "execution_count": 19,
   "id": "4237dec0",
   "metadata": {},
   "outputs": [
    {
     "data": {
      "text/plain": [
       "'hasaan has scoverd 3km'"
      ]
     },
     "execution_count": 19,
     "metadata": {},
     "output_type": "execute_result"
    }
   ],
   "source": [
    "c1.walk(\"3km\")"
   ]
  },
  {
   "cell_type": "markdown",
   "id": "1d11b193",
   "metadata": {},
   "source": [
    "# add some new method in child class\n",
    "## 'super().prent_methods"
   ]
  },
  {
   "cell_type": "code",
   "execution_count": 44,
   "id": "14586ec4",
   "metadata": {},
   "outputs": [],
   "source": [
    "class parent():\n",
    "    def __init__(self):\n",
    "        self.id = None\n",
    "        self.name = None\n",
    "        self.fname = None\n",
    "        \n",
    "    def eat(self,food):\n",
    "        return f\"{self.name} is eatng {food}\"\n",
    "    \n",
    "    def speak(self,words,language=\"urdu\"):\n",
    "        return f\"{words}. language= {language}\"\n",
    "\n",
    "class child(parent):\n",
    "    \n",
    "    def __init__(self):# create new child constructor\n",
    "        super().__init__() # we call parent's attributes\n",
    "        self.education = None # additinal attributes\n",
    "        self.height = None # additinal attributes\n",
    "    def play(self,game):\n",
    "        return f'{self.name}  is playing{game}'"
   ]
  },
  {
   "cell_type": "code",
   "execution_count": 45,
   "id": "6f133d03",
   "metadata": {},
   "outputs": [
    {
     "name": "stdout",
     "output_type": "stream",
     "text": [
      "['eat', 'fname', 'id', 'name', 'speak']\n"
     ]
    }
   ],
   "source": [
    "p1 = parent()\n",
    "print([i for i in dir(p1) if '_' not in i])"
   ]
  },
  {
   "cell_type": "code",
   "execution_count": 46,
   "id": "65fb575f",
   "metadata": {},
   "outputs": [
    {
     "name": "stdout",
     "output_type": "stream",
     "text": [
      "['eat', 'education', 'fname', 'height', 'id', 'name', 'play', 'speak']\n"
     ]
    }
   ],
   "source": [
    "c1 = child()\n",
    "print([i for i in dir(c1) if '_' not in i])"
   ]
  },
  {
   "cell_type": "code",
   "execution_count": 47,
   "id": "bcc329e7",
   "metadata": {},
   "outputs": [
    {
     "name": "stdout",
     "output_type": "stream",
     "text": [
      "hassaan\n"
     ]
    }
   ],
   "source": [
    "c1.name = \"hassaan\"\n",
    "print(c1.name)"
   ]
  },
  {
   "cell_type": "code",
   "execution_count": 48,
   "id": "a1f60e24",
   "metadata": {},
   "outputs": [
    {
     "name": "stdout",
     "output_type": "stream",
     "text": [
      "huzaifa\n"
     ]
    }
   ],
   "source": [
    "p1.name = \"huzaifa\"\n",
    "print(p1.name)"
   ]
  },
  {
   "cell_type": "code",
   "execution_count": 49,
   "id": "0404b4f0",
   "metadata": {},
   "outputs": [
    {
     "ename": "AttributeError",
     "evalue": "'parent' object has no attribute 'hieght'",
     "output_type": "error",
     "traceback": [
      "\u001b[1;31m---------------------------------------------------------------------------\u001b[0m",
      "\u001b[1;31mAttributeError\u001b[0m                            Traceback (most recent call last)",
      "Input \u001b[1;32mIn [49]\u001b[0m, in \u001b[0;36m<cell line: 1>\u001b[1;34m()\u001b[0m\n\u001b[1;32m----> 1\u001b[0m \u001b[43mp1\u001b[49m\u001b[38;5;241;43m.\u001b[39;49m\u001b[43mhieght\u001b[49m\n",
      "\u001b[1;31mAttributeError\u001b[0m: 'parent' object has no attribute 'hieght'"
     ]
    }
   ],
   "source": [
    "p1.hieght # parent has not hieght attribute"
   ]
  },
  {
   "cell_type": "code",
   "execution_count": 31,
   "id": "ba6f5d32",
   "metadata": {},
   "outputs": [
    {
     "name": "stdout",
     "output_type": "stream",
     "text": [
      "MBA\n"
     ]
    }
   ],
   "source": [
    "c1.education = \"MBA\"\n",
    "print(c1.education)"
   ]
  },
  {
   "cell_type": "code",
   "execution_count": null,
   "id": "d87fd772",
   "metadata": {},
   "outputs": [],
   "source": [
    "c1.height"
   ]
  },
  {
   "cell_type": "code",
   "execution_count": 40,
   "id": "3ef361be",
   "metadata": {},
   "outputs": [
    {
     "name": "stdout",
     "output_type": "stream",
     "text": [
      "7 feet\n"
     ]
    }
   ],
   "source": [
    "c1.height = \"7 feet\"\n",
    "print(c1.height)"
   ]
  },
  {
   "cell_type": "code",
   "execution_count": 5,
   "id": "4633c90e",
   "metadata": {},
   "outputs": [
    {
     "ename": "AttributeError",
     "evalue": "'child' object has no attribute 'id'",
     "output_type": "error",
     "traceback": [
      "\u001b[1;31m---------------------------------------------------------------------------\u001b[0m",
      "\u001b[1;31mAttributeError\u001b[0m                            Traceback (most recent call last)",
      "Input \u001b[1;32mIn [5]\u001b[0m, in \u001b[0;36m<cell line: 19>\u001b[1;34m()\u001b[0m\n\u001b[0;32m     17\u001b[0m         \u001b[38;5;28mself\u001b[39m\u001b[38;5;241m.\u001b[39mheight \u001b[38;5;241m=\u001b[39m \u001b[38;5;28;01mNone\u001b[39;00m \u001b[38;5;66;03m# additinal attributes\u001b[39;00m\n\u001b[0;32m     18\u001b[0m c1 \u001b[38;5;241m=\u001b[39m child()\n\u001b[1;32m---> 19\u001b[0m \u001b[38;5;28mprint\u001b[39m(\u001b[43mc1\u001b[49m\u001b[38;5;241;43m.\u001b[39;49m\u001b[43mid\u001b[49m)\n\u001b[0;32m     20\u001b[0m \u001b[38;5;28mprint\u001b[39m(c1\u001b[38;5;241m.\u001b[39mname)\n\u001b[0;32m     21\u001b[0m \u001b[38;5;28mprint\u001b[39m(c1\u001b[38;5;241m.\u001b[39mfname)\n",
      "\u001b[1;31mAttributeError\u001b[0m: 'child' object has no attribute 'id'"
     ]
    }
   ],
   "source": [
    "class parent():\n",
    "    def __init__(self):\n",
    "        self.id = None\n",
    "        self.name = None\n",
    "        self.fname = None\n",
    "        \n",
    "    def eat(self,food):\n",
    "        return f\"{self.name} is eatng {food}\"\n",
    "    \n",
    "    def speak(self,words,language=\"urdu\"):\n",
    "        return f\"{words}. language= {language}\"\n",
    "\n",
    "class child(parent):\n",
    "    \n",
    "    def __init__(self):# create new child constructor\n",
    "        self.education = None # additinal attributes\n",
    "        self.height = None # additinal attributes\n",
    "c1 = child()\n",
    "print(c1.id)\n",
    "print(c1.name)\n",
    "print(c1.fname)"
   ]
  },
  {
   "cell_type": "markdown",
   "id": "584350de",
   "metadata": {},
   "source": [
    "# Multi level Inheritanc"
   ]
  },
  {
   "cell_type": "code",
   "execution_count": null,
   "id": "7aaa5b3a",
   "metadata": {},
   "outputs": [],
   "source": [
    "# \\d means numbers and \\b describe the boundries"
   ]
  },
  {
   "cell_type": "code",
   "execution_count": 62,
   "id": "d10e77ea",
   "metadata": {},
   "outputs": [],
   "source": [
    "class Father():\n",
    "    \n",
    "    def __init__(self,name):\n",
    "        self.name = name\n",
    "        self.fname = None\n",
    "        self.color = \"whitish\"\n",
    "        self.hair_shade = \"dark brown\"\n",
    "    \n",
    "    def speak(self):\n",
    "        return \"hahahaha!\"\n",
    "\n",
    "class Mother():\n",
    "    def __init__(self):\n",
    "        self.height = \"5.6 feet\"\n",
    "        self.color = 'white'\n",
    "    def silent(self):\n",
    "        return \"...\"\n",
    "\n",
    "class child(Father,Mother):\n",
    "    pass"
   ]
  },
  {
   "cell_type": "code",
   "execution_count": 63,
   "id": "3db8714b",
   "metadata": {},
   "outputs": [
    {
     "name": "stdout",
     "output_type": "stream",
     "text": [
      "['color', 'fname', 'hair_shade', 'name', 'silent', 'speak']\n"
     ]
    }
   ],
   "source": [
    "c1 = child(\"Mehmood\")\n",
    "print([i for i in dir(c1) if \"__\" not in i])"
   ]
  },
  {
   "cell_type": "code",
   "execution_count": 65,
   "id": "850c6d6c",
   "metadata": {},
   "outputs": [],
   "source": [
    "class Father():\n",
    "    \n",
    "    def __init__(self):\n",
    "        self.name = None\n",
    "        self.fname = None\n",
    "        self.color = \"whitish\"\n",
    "        self.hair_shade = \"dark brown\"\n",
    "    \n",
    "    def speak(self):\n",
    "        return \"hahahaha!\"\n",
    "\n",
    "class Mother():\n",
    "    def __init__(self):\n",
    "        self.height = \"5.6 feet\"\n",
    "        self.color = 'white'\n",
    "    def silent(self):\n",
    "        return \"...\"\n",
    "\n",
    "class child(Mother,Father): # we change the names\n",
    "    pass"
   ]
  },
  {
   "cell_type": "code",
   "execution_count": 68,
   "id": "9cad1276",
   "metadata": {},
   "outputs": [
    {
     "name": "stdout",
     "output_type": "stream",
     "text": [
      "['color', 'height', 'silent', 'speak']\n"
     ]
    }
   ],
   "source": [
    "c1 = child()\n",
    "print([i for i in dir(c1) if \"__\" not in i])"
   ]
  },
  {
   "cell_type": "markdown",
   "id": "563b68fa",
   "metadata": {},
   "source": [
    "# Task of this week\n",
    " # import mother and father attributes\n",
    " # add two new attribute in child constructor "
   ]
  },
  {
   "cell_type": "markdown",
   "id": "0018426a",
   "metadata": {},
   "source": [
    "# polymorphism\n",
    "if object behave multiple bhaviours , with same method name or operator\n",
    "* overloading\n",
    "   * within same class\n",
    "   *method name same but pass argument with diffrent data types or numbers of arguments variation, pass 1 or many\n",
    "* overriding\n",
    "   * with parent and child "
   ]
  },
  {
   "cell_type": "markdown",
   "id": "5147f93a",
   "metadata": {},
   "source": [
    "#  overloading"
   ]
  },
  {
   "cell_type": "code",
   "execution_count": 71,
   "id": "96c0aa12",
   "metadata": {},
   "outputs": [
    {
     "name": "stdout",
     "output_type": "stream",
     "text": [
      "7\n",
      "11\n",
      "13\n",
      "15\n"
     ]
    }
   ],
   "source": [
    "class Mymath(): # we dont make any constructor here because it would work as by default\n",
    "    def my_sum(self,*num):\n",
    "        return sum(num)\n",
    "    \n",
    "m1 = Mymath()\n",
    "print(m1.my_sum(2,5))\n",
    "print(m1.my_sum(2,5,4))\n",
    "print(m1.my_sum(2,5,3,3))\n",
    "print(m1.my_sum(2,5,6,1,1))"
   ]
  },
  {
   "cell_type": "code",
   "execution_count": 72,
   "id": "a07d80a1",
   "metadata": {},
   "outputs": [
    {
     "data": {
      "text/plain": [
       "__main__.Mymath"
      ]
     },
     "execution_count": 72,
     "metadata": {},
     "output_type": "execute_result"
    }
   ],
   "source": [
    "m1.__class__"
   ]
  },
  {
   "cell_type": "markdown",
   "id": "c171af45",
   "metadata": {},
   "source": [
    "# overridding"
   ]
  },
  {
   "cell_type": "markdown",
   "id": "1e4092da",
   "metadata": {},
   "source": [
    "# 2nd task create operator overloading "
   ]
  },
  {
   "cell_type": "code",
   "execution_count": null,
   "id": "4b036c79",
   "metadata": {},
   "outputs": [],
   "source": []
  },
  {
   "cell_type": "code",
   "execution_count": null,
   "id": "0057a813",
   "metadata": {},
   "outputs": [],
   "source": []
  }
 ],
 "metadata": {
  "kernelspec": {
   "display_name": "Python 3 (ipykernel)",
   "language": "python",
   "name": "python3"
  },
  "language_info": {
   "codemirror_mode": {
    "name": "ipython",
    "version": 3
   },
   "file_extension": ".py",
   "mimetype": "text/x-python",
   "name": "python",
   "nbconvert_exporter": "python",
   "pygments_lexer": "ipython3",
   "version": "3.9.12"
  }
 },
 "nbformat": 4,
 "nbformat_minor": 5
}
