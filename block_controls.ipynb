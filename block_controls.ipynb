{
 "cells": [
  {
   "cell_type": "code",
   "execution_count": 6,
   "id": "02445306",
   "metadata": {},
   "outputs": [
    {
     "name": "stdout",
     "output_type": "stream",
     "text": [
      "89\n",
      "A\n"
     ]
    }
   ],
   "source": [
    "per = 89\n",
    "grade = \"\"\n",
    "\n",
    "if per >= 90:\n",
    "    grade = \"A+\"\n",
    "elif per >= 80:\n",
    "        grade = \"A\"\n",
    "elif per >= 70:\n",
    "        grade = \"B\"\n",
    "elif per >= 50:\n",
    "        grade = \"C\"\n",
    "else:\n",
    "    grade = \"Fail\"\n",
    "\n",
    "print(per)\n",
    "print(grade)\n",
    "        "
   ]
  },
  {
   "cell_type": "code",
   "execution_count": 10,
   "id": "c9b7f569",
   "metadata": {},
   "outputs": [
    {
     "name": "stdout",
     "output_type": "stream",
     "text": [
      "percentage:40\n",
      "40\n",
      "Fail\n"
     ]
    }
   ],
   "source": [
    "per = int(input(\"percentage:\"))\n",
    "grade = \"\"\n",
    "\n",
    "if per >= 90:\n",
    "    grade = \"A+\"\n",
    "elif per >= 80:\n",
    "        grade = \"A\"\n",
    "elif per >= 70:\n",
    "        grade = \"B\"\n",
    "elif per >= 50:\n",
    "        grade = \"C\"\n",
    "else:\n",
    "    grade = \"Fail\"\n",
    "\n",
    "print(per)\n",
    "print(grade)"
   ]
  },
  {
   "cell_type": "code",
   "execution_count": null,
   "id": "02a8461e",
   "metadata": {},
   "outputs": [],
   "source": []
  },
  {
   "cell_type": "code",
   "execution_count": null,
   "id": "05fdf9b6",
   "metadata": {},
   "outputs": [],
   "source": []
  }
 ],
 "metadata": {
  "kernelspec": {
   "display_name": "Python 3 (ipykernel)",
   "language": "python",
   "name": "python3"
  },
  "language_info": {
   "codemirror_mode": {
    "name": "ipython",
    "version": 3
   },
   "file_extension": ".py",
   "mimetype": "text/x-python",
   "name": "python",
   "nbconvert_exporter": "python",
   "pygments_lexer": "ipython3",
   "version": "3.9.12"
  }
 },
 "nbformat": 4,
 "nbformat_minor": 5
}
