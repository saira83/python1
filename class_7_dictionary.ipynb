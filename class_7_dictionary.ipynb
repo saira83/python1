{
 "cells": [
  {
   "cell_type": "code",
   "execution_count": null,
   "id": "eca66e2d",
   "metadata": {},
   "outputs": [],
   "source": [
    "{\n",
    "    key1:value1,\n",
    "    key2:value2,\n",
    "    key3:value3,\n",
    "    ...\n",
    "}\n",
    "#always start with {}\n",
    "#key and values\n",
    "#: seprator between key and value\n",
    "#, seprator between key:value pair \n",
    "# key data types always shoud be int or string\n",
    "#value data types can be any types"
   ]
  },
  {
   "cell_type": "code",
   "execution_count": null,
   "id": "73d3dd4b",
   "metadata": {},
   "outputs": [],
   "source": [
    "#    0        1     2    3\n",
    "['fariha, 'anisa', 39, \"AI\"]\n",
    "# we will replace indexes with keys "
   ]
  },
  {
   "cell_type": "code",
   "execution_count": 2,
   "id": "48c104e7",
   "metadata": {},
   "outputs": [
    {
     "name": "stdout",
     "output_type": "stream",
     "text": [
      "{'name': 'asma', 'fther_name': 'ali', 'age': 38, 'qualification': 'MSAA', 'skills': ['AI', 'ML', 'cloud computing']}\n"
     ]
    }
   ],
   "source": [
    "data = {\n",
    "    'name':'asma',\n",
    "    'fther_name':'ali',\n",
    "    'age':38,\n",
    "    'qualification':'MSAA',\n",
    "    'skills':['AI', 'ML', 'cloud computing']\n",
    "}\n",
    "print(data)"
   ]
  },
  {
   "cell_type": "markdown",
   "id": "8594e3ca",
   "metadata": {},
   "source": [
    "# how to access value from dictionary\n",
    "*dictname['key']"
   ]
  },
  {
   "cell_type": "code",
   "execution_count": 18,
   "id": "e71d0829",
   "metadata": {},
   "outputs": [
    {
     "name": "stdout",
     "output_type": "stream",
     "text": [
      "<class 'dict'>\n"
     ]
    },
    {
     "data": {
      "text/plain": [
       "38"
      ]
     },
     "execution_count": 18,
     "metadata": {},
     "output_type": "execute_result"
    }
   ],
   "source": [
    "data = {\n",
    "    'name':'asma',\n",
    "    'fname':'ali',\n",
    "    'age':38,\n",
    "    'qualification':'MSAA',\n",
    "    'skills':['AI', 'ML', 'cloud computing']\n",
    "}\n",
    "print(type(data))\n",
    "data['age']\n"
   ]
  },
  {
   "cell_type": "code",
   "execution_count": 3,
   "id": "05269d1d",
   "metadata": {},
   "outputs": [
    {
     "data": {
      "text/plain": [
       "'asma'"
      ]
     },
     "execution_count": 3,
     "metadata": {},
     "output_type": "execute_result"
    }
   ],
   "source": [
    "data['name']"
   ]
  },
  {
   "cell_type": "code",
   "execution_count": 5,
   "id": "bf740a37",
   "metadata": {},
   "outputs": [
    {
     "data": {
      "text/plain": [
       "'MSAA'"
      ]
     },
     "execution_count": 5,
     "metadata": {},
     "output_type": "execute_result"
    }
   ],
   "source": [
    "data['qualification']"
   ]
  },
  {
   "cell_type": "code",
   "execution_count": 9,
   "id": "f392bbd9",
   "metadata": {},
   "outputs": [
    {
     "data": {
      "text/plain": [
       "['AI', 'ML', 'cloud computing']"
      ]
     },
     "execution_count": 9,
     "metadata": {},
     "output_type": "execute_result"
    }
   ],
   "source": [
    " data['skills']"
   ]
  },
  {
   "cell_type": "code",
   "execution_count": 11,
   "id": "a3b89bdc",
   "metadata": {},
   "outputs": [
    {
     "data": {
      "text/plain": [
       "'ali'"
      ]
     },
     "execution_count": 11,
     "metadata": {},
     "output_type": "execute_result"
    }
   ],
   "source": [
    "data['fname']"
   ]
  },
  {
   "cell_type": "code",
   "execution_count": null,
   "id": "d97ea813",
   "metadata": {},
   "outputs": [],
   "source": [
    "data = {\n",
    "    'names':['asma','fatima','azra']\n",
    "    'fnames':['ali','fahad','abdullah']\n",
    "    'qualification':['MSAA', 'MSC', 'BCS']\n",
    "    'skills':['AI', 'ML', 'cloud computing']\n",
    "}"
   ]
  },
  {
   "cell_type": "code",
   "execution_count": 13,
   "id": "487d52a4",
   "metadata": {},
   "outputs": [
    {
     "data": {
      "text/html": [
       "<div>\n",
       "<style scoped>\n",
       "    .dataframe tbody tr th:only-of-type {\n",
       "        vertical-align: middle;\n",
       "    }\n",
       "\n",
       "    .dataframe tbody tr th {\n",
       "        vertical-align: top;\n",
       "    }\n",
       "\n",
       "    .dataframe thead th {\n",
       "        text-align: right;\n",
       "    }\n",
       "</style>\n",
       "<table border=\"1\" class=\"dataframe\">\n",
       "  <thead>\n",
       "    <tr style=\"text-align: right;\">\n",
       "      <th></th>\n",
       "      <th>name</th>\n",
       "      <th>fname</th>\n",
       "      <th>age</th>\n",
       "      <th>qualification</th>\n",
       "      <th>skills</th>\n",
       "    </tr>\n",
       "  </thead>\n",
       "  <tbody>\n",
       "    <tr>\n",
       "      <th>0</th>\n",
       "      <td>asma</td>\n",
       "      <td>ali</td>\n",
       "      <td>38</td>\n",
       "      <td>MSAA</td>\n",
       "      <td>AI</td>\n",
       "    </tr>\n",
       "    <tr>\n",
       "      <th>1</th>\n",
       "      <td>asma</td>\n",
       "      <td>ali</td>\n",
       "      <td>38</td>\n",
       "      <td>MSAA</td>\n",
       "      <td>ML</td>\n",
       "    </tr>\n",
       "    <tr>\n",
       "      <th>2</th>\n",
       "      <td>asma</td>\n",
       "      <td>ali</td>\n",
       "      <td>38</td>\n",
       "      <td>MSAA</td>\n",
       "      <td>cloud computing</td>\n",
       "    </tr>\n",
       "  </tbody>\n",
       "</table>\n",
       "</div>"
      ],
      "text/plain": [
       "   name fname  age qualification           skills\n",
       "0  asma   ali   38          MSAA               AI\n",
       "1  asma   ali   38          MSAA               ML\n",
       "2  asma   ali   38          MSAA  cloud computing"
      ]
     },
     "execution_count": 13,
     "metadata": {},
     "output_type": "execute_result"
    }
   ],
   "source": [
    "import pandas as pd\n",
    "df = pd.DataFrame(data)\n",
    "df"
   ]
  },
  {
   "cell_type": "code",
   "execution_count": 10,
   "id": "0c078368",
   "metadata": {},
   "outputs": [
    {
     "name": "stdout",
     "output_type": "stream",
     "text": [
      "{'names': ['asma', 'fatima', 'azra'], 'fnames': ['ali', 'fahad', 'abdullah'], 'qualification': ['MSAA', 'MSC', 'BCS'], 'skills': ['AI', 'ML', 'cloud computing']}\n"
     ]
    }
   ],
   "source": [
    "data = {\n",
    "    'names':['asma','fatima','azra'],\n",
    "    'fnames':['ali','fahad','abdullah'],\n",
    "'qualification':['MSAA', 'MSC', 'BCS'],\n",
    "'skills':['AI', 'ML', 'cloud computing']\n",
    "}\n",
    "print(data)"
   ]
  },
  {
   "cell_type": "code",
   "execution_count": 8,
   "id": "b89fc534",
   "metadata": {},
   "outputs": [
    {
     "data": {
      "text/html": [
       "<div>\n",
       "<style scoped>\n",
       "    .dataframe tbody tr th:only-of-type {\n",
       "        vertical-align: middle;\n",
       "    }\n",
       "\n",
       "    .dataframe tbody tr th {\n",
       "        vertical-align: top;\n",
       "    }\n",
       "\n",
       "    .dataframe thead th {\n",
       "        text-align: right;\n",
       "    }\n",
       "</style>\n",
       "<table border=\"1\" class=\"dataframe\">\n",
       "  <thead>\n",
       "    <tr style=\"text-align: right;\">\n",
       "      <th></th>\n",
       "      <th>names</th>\n",
       "      <th>fnames</th>\n",
       "      <th>qualification</th>\n",
       "      <th>skills</th>\n",
       "    </tr>\n",
       "  </thead>\n",
       "  <tbody>\n",
       "    <tr>\n",
       "      <th>0</th>\n",
       "      <td>asma</td>\n",
       "      <td>ali</td>\n",
       "      <td>MSAA</td>\n",
       "      <td>AI</td>\n",
       "    </tr>\n",
       "    <tr>\n",
       "      <th>1</th>\n",
       "      <td>fatima</td>\n",
       "      <td>fahad</td>\n",
       "      <td>MSC</td>\n",
       "      <td>ML</td>\n",
       "    </tr>\n",
       "    <tr>\n",
       "      <th>2</th>\n",
       "      <td>azra</td>\n",
       "      <td>abdullah</td>\n",
       "      <td>BCS</td>\n",
       "      <td>cloud computing</td>\n",
       "    </tr>\n",
       "  </tbody>\n",
       "</table>\n",
       "</div>"
      ],
      "text/plain": [
       "    names    fnames qualification           skills\n",
       "0    asma       ali          MSAA               AI\n",
       "1  fatima     fahad           MSC               ML\n",
       "2    azra  abdullah           BCS  cloud computing"
      ]
     },
     "execution_count": 8,
     "metadata": {},
     "output_type": "execute_result"
    }
   ],
   "source": [
    "import pandas as pd\n",
    "df = pd.DataFrame(data)\n",
    "df"
   ]
  },
  {
   "cell_type": "code",
   "execution_count": 29,
   "id": "0ac1220a",
   "metadata": {},
   "outputs": [
    {
     "data": {
      "text/plain": [
       "{'name': 'saira',\n",
       " 'fname': 'abdulwali',\n",
       " 'course': 'AI',\n",
       " 'student': 'hassaan',\n",
       " 'studentf': 'mehmoodAI student'}"
      ]
     },
     "execution_count": 29,
     "metadata": {},
     "output_type": "execute_result"
    }
   ],
   "source": [
    "data = {}\n",
    "data['name']= \"saira\" #add key value1\n",
    "data['fname'] = \"abdulwali\" # so on\n",
    "data['course'] = \"AI\"\n",
    "data['student']= \"hassaan\"  \n",
    "data['studentf'] = \"mehmood\" +\"AI student\"\n",
    "data"
   ]
  },
  {
   "cell_type": "code",
   "execution_count": 30,
   "id": "c2950fe7",
   "metadata": {},
   "outputs": [
    {
     "data": {
      "text/plain": [
       "['__class__',\n",
       " '__class_getitem__',\n",
       " '__contains__',\n",
       " '__delattr__',\n",
       " '__delitem__',\n",
       " '__dir__',\n",
       " '__doc__',\n",
       " '__eq__',\n",
       " '__format__',\n",
       " '__ge__',\n",
       " '__getattribute__',\n",
       " '__getitem__',\n",
       " '__gt__',\n",
       " '__hash__',\n",
       " '__init__',\n",
       " '__init_subclass__',\n",
       " '__ior__',\n",
       " '__iter__',\n",
       " '__le__',\n",
       " '__len__',\n",
       " '__lt__',\n",
       " '__ne__',\n",
       " '__new__',\n",
       " '__or__',\n",
       " '__reduce__',\n",
       " '__reduce_ex__',\n",
       " '__repr__',\n",
       " '__reversed__',\n",
       " '__ror__',\n",
       " '__setattr__',\n",
       " '__setitem__',\n",
       " '__sizeof__',\n",
       " '__str__',\n",
       " '__subclasshook__',\n",
       " 'clear',\n",
       " 'copy',\n",
       " 'fromkeys',\n",
       " 'get',\n",
       " 'items',\n",
       " 'keys',\n",
       " 'pop',\n",
       " 'popitem',\n",
       " 'setdefault',\n",
       " 'update',\n",
       " 'values']"
      ]
     },
     "execution_count": 30,
     "metadata": {},
     "output_type": "execute_result"
    }
   ],
   "source": [
    "dir(data)"
   ]
  },
  {
   "cell_type": "code",
   "execution_count": 32,
   "id": "767e6126",
   "metadata": {},
   "outputs": [
    {
     "name": "stdout",
     "output_type": "stream",
     "text": [
      "{'names': ['asma', 'fatima', 'azra'], 'fnames': ['ali', 'fahad', 'abdullah'], 'qualification': ['MSAA', 'MSC', 'BCS'], 'skills': ['AI', 'ML', 'cloud computing']}\n",
      "{}\n"
     ]
    }
   ],
   "source": [
    "data = {\n",
    "    'names':['asma','fatima','azra'],\n",
    "    'fnames':['ali','fahad','abdullah'],\n",
    "'qualification':['MSAA', 'MSC', 'BCS'],\n",
    "'skills':['AI', 'ML', 'cloud computing']\n",
    "}\n",
    "print(data)\n",
    "data.clear() #clear/empty but object exist\n",
    "print(data)"
   ]
  },
  {
   "cell_type": "code",
   "execution_count": 33,
   "id": "d7d3cb6e",
   "metadata": {},
   "outputs": [],
   "source": [
    "del data"
   ]
  },
  {
   "cell_type": "code",
   "execution_count": 34,
   "id": "7b3adc46",
   "metadata": {},
   "outputs": [
    {
     "ename": "NameError",
     "evalue": "name 'data' is not defined",
     "output_type": "error",
     "traceback": [
      "\u001b[1;31m---------------------------------------------------------------------------\u001b[0m",
      "\u001b[1;31mNameError\u001b[0m                                 Traceback (most recent call last)",
      "Input \u001b[1;32mIn [34]\u001b[0m, in \u001b[0;36m<cell line: 1>\u001b[1;34m()\u001b[0m\n\u001b[1;32m----> 1\u001b[0m \u001b[38;5;28mprint\u001b[39m(\u001b[43mdata\u001b[49m)\n",
      "\u001b[1;31mNameError\u001b[0m: name 'data' is not defined"
     ]
    }
   ],
   "source": [
    "print(data)"
   ]
  },
  {
   "cell_type": "code",
   "execution_count": 37,
   "id": "540a1729",
   "metadata": {},
   "outputs": [
    {
     "name": "stdout",
     "output_type": "stream",
     "text": [
      "{'names': ['asma', 'fatima', 'azra'], 'fnames': ['ali', 'fahad', 'abdullah'], 'qualification': ['MSAA', 'MSC', 'BCS'], 'skills': ['AI', 'ML', 'cloud computing']}\n",
      "{'names': 'maria', 'fnames': ['ali', 'fahad', 'abdullah'], 'qualification': ['MSAA', 'MSC', 'BCS'], 'skills': ['AI', 'ML', 'cloud computing']}\n",
      "{'names': 'maria', 'fnames': ['ali', 'fahad', 'abdullah'], 'qualification': ['MSAA', 'MSC', 'BCS'], 'skills': ['AI', 'ML', 'cloud computing']}\n"
     ]
    }
   ],
   "source": [
    "data = {\n",
    "    'names':['asma','fatima','azra'],\n",
    "    'fnames':['ali','fahad','abdullah'],\n",
    "'qualification':['MSAA', 'MSC', 'BCS'],\n",
    "'skills':['AI', 'ML', 'cloud computing']\n",
    "}\n",
    "print(data)\n",
    "data1 = data #shallow copy\n",
    "data1['names'] = 'maria'\n",
    "print(data)\n",
    "print(data1)"
   ]
  },
  {
   "cell_type": "code",
   "execution_count": 8,
   "id": "f9c3c977",
   "metadata": {},
   "outputs": [
    {
     "name": "stdout",
     "output_type": "stream",
     "text": [
      "{'names': ['asma', 'fatima', 'azra'], 'fnames': ['ali', 'fahad', 'abdullah']}\n",
      "{'names': ['asma', 'fatima', 'azra'], 'fnames': ['ali', 'fahad', 'abdullah']}\n",
      "{'names': 'maria', 'fnames': 'gaurdians'}\n"
     ]
    }
   ],
   "source": [
    "data = {\n",
    "    'names':['asma','fatima','azra'],\n",
    "    'fnames':['ali','fahad','abdullah'],\n",
    "}\n",
    "print(data)\n",
    "data1 = data.copy() #deep copy\n",
    "data1['names'] = 'maria'\n",
    "data2 = data1 = #shallow copy\n",
    "data2['fnames'] = 'gaurdians'\n",
    "print(data)\n",
    "print(data2)"
   ]
  },
  {
   "cell_type": "markdown",
   "id": "eec7d029",
   "metadata": {},
   "source": [
    "# from keys"
   ]
  },
  {
   "cell_type": "code",
   "execution_count": 46,
   "id": "1c1895d4",
   "metadata": {},
   "outputs": [
    {
     "data": {
      "text/plain": [
       "{'id': None, 'name': None, 'fname': None}"
      ]
     },
     "execution_count": 46,
     "metadata": {},
     "output_type": "execute_result"
    }
   ],
   "source": [
    "keys = ['id','name','fname']\n",
    "dict.fromkeys(keys)"
   ]
  },
  {
   "cell_type": "code",
   "execution_count": 51,
   "id": "04927a16",
   "metadata": {},
   "outputs": [
    {
     "data": {
      "text/plain": [
       "{'id': 'empty', 'name': 'empty', 'fname': 'empty'}"
      ]
     },
     "execution_count": 51,
     "metadata": {},
     "output_type": "execute_result"
    }
   ],
   "source": [
    "keys = ['id','name','fname']\n",
    "values = [1,'ammara','saleem']\n",
    "dict.fromkeys(keys,'empty')"
   ]
  },
  {
   "cell_type": "code",
   "execution_count": 52,
   "id": "e7bb03fa",
   "metadata": {},
   "outputs": [
    {
     "name": "stdout",
     "output_type": "stream",
     "text": [
      "{'names': ['asma', 'fatima', 'azra'], 'fnames': ['ali', 'fahad', 'abdullah'], 'qualification': ['MSAA', 'MSC', 'BCS'], 'skills': ['AI', 'ML', 'cloud computing']}\n"
     ]
    }
   ],
   "source": [
    "data = {\n",
    "    'names':['asma','fatima','azra'],\n",
    "    'fnames':['ali','fahad','abdullah'],\n",
    "'qualification':['MSAA', 'MSC', 'BCS'],\n",
    "'skills':['AI', 'ML', 'cloud computing']\n",
    "}\n",
    "print(data)\n"
   ]
  },
  {
   "cell_type": "code",
   "execution_count": 54,
   "id": "7d9259a7",
   "metadata": {},
   "outputs": [
    {
     "data": {
      "text/plain": [
       "['asma', 'fatima', 'azra']"
      ]
     },
     "execution_count": 54,
     "metadata": {},
     "output_type": "execute_result"
    }
   ],
   "source": [
    "data.get('names') # get function protect from error"
   ]
  },
  {
   "cell_type": "code",
   "execution_count": 55,
   "id": "798bf84d",
   "metadata": {},
   "outputs": [],
   "source": [
    "data.get('contact')"
   ]
  },
  {
   "cell_type": "code",
   "execution_count": 56,
   "id": "0f5a1e46",
   "metadata": {},
   "outputs": [
    {
     "data": {
      "text/plain": [
       "'not available'"
      ]
     },
     "execution_count": 56,
     "metadata": {},
     "output_type": "execute_result"
    }
   ],
   "source": [
    " data.get('contact', 'not available')"
   ]
  },
  {
   "cell_type": "markdown",
   "id": "aebd0100",
   "metadata": {},
   "source": [
    "# item, keys, values"
   ]
  },
  {
   "cell_type": "code",
   "execution_count": 58,
   "id": "3913f104",
   "metadata": {},
   "outputs": [
    {
     "data": {
      "text/plain": [
       "dict_items([('names', ['asma', 'fatima', 'azra']), ('fnames', ['ali', 'fahad', 'abdullah'])])"
      ]
     },
     "execution_count": 58,
     "metadata": {},
     "output_type": "execute_result"
    }
   ],
   "source": [
    "data = {\n",
    "    'names':['asma','fatima','azra'],\n",
    "    'fnames':['ali','fahad','abdullah']}\n",
    "\n",
    "\n",
    "data.items()"
   ]
  },
  {
   "cell_type": "code",
   "execution_count": 59,
   "id": "b9e8db69",
   "metadata": {},
   "outputs": [
    {
     "data": {
      "text/plain": [
       "dict_keys(['names', 'fnames'])"
      ]
     },
     "execution_count": 59,
     "metadata": {},
     "output_type": "execute_result"
    }
   ],
   "source": [
    " data.keys()"
   ]
  },
  {
   "cell_type": "code",
   "execution_count": 60,
   "id": "02170384",
   "metadata": {},
   "outputs": [
    {
     "data": {
      "text/plain": [
       "dict_values([['asma', 'fatima', 'azra'], ['ali', 'fahad', 'abdullah']])"
      ]
     },
     "execution_count": 60,
     "metadata": {},
     "output_type": "execute_result"
    }
   ],
   "source": [
    "data.values()"
   ]
  },
  {
   "cell_type": "code",
   "execution_count": 16,
   "id": "26769ed7",
   "metadata": {},
   "outputs": [
    {
     "data": {
      "text/plain": [
       "{'names': ['asma', 'fatima', 'azra'], 'fnames': ['ali', 'fahad', 'abdullah']}"
      ]
     },
     "execution_count": 16,
     "metadata": {},
     "output_type": "execute_result"
    }
   ],
   "source": [
    "data = {\n",
    "    'names':['asma','fatima','azra'],\n",
    "    'fnames':['ali','fahad','abdullah']}\n",
    "data"
   ]
  },
  {
   "cell_type": "code",
   "execution_count": 18,
   "id": "c7d676b6",
   "metadata": {},
   "outputs": [
    {
     "data": {
      "text/plain": [
       "{'fnames': ['ali', 'fahad', 'abdullah']}"
      ]
     },
     "execution_count": 18,
     "metadata": {},
     "output_type": "execute_result"
    }
   ],
   "source": [
    "del data['names']# del will delete data permanantly\n",
    "data"
   ]
  },
  {
   "cell_type": "code",
   "execution_count": 21,
   "id": "9aab95cd",
   "metadata": {},
   "outputs": [
    {
     "name": "stdout",
     "output_type": "stream",
     "text": [
      "['asma', 'fatima', 'azra']\n",
      "{'fnames': ['ali', 'fahad', 'abdullah']}\n"
     ]
    }
   ],
   "source": [
    "data = {\n",
    "    'names':['asma','fatima','azra'],\n",
    "    'fnames':['ali','fahad','abdullah']}\n",
    "a = data.pop('names') # it will not remove permanantly \n",
    "print(a)\n",
    "print(data)"
   ]
  },
  {
   "cell_type": "code",
   "execution_count": 24,
   "id": "42e2a016",
   "metadata": {},
   "outputs": [
    {
     "name": "stdout",
     "output_type": "stream",
     "text": [
      "asma\n",
      "ali\n"
     ]
    }
   ],
   "source": [
    "completed_lis = []\n",
    "data = {\n",
    "    'name':'asma',\n",
    "    'fname':'ali',\n",
    "    'age':38,\n",
    "    'qualification':'MSAA',\n",
    "    'skills':['AI', 'ML', 'cloud computing']\n",
    "}\n",
    "a = data.pop('name')\n",
    "b = data.pop('fname')\n",
    "print(a)\n",
    "print(b)"
   ]
  },
  {
   "cell_type": "code",
   "execution_count": 26,
   "id": "96f2d38c",
   "metadata": {},
   "outputs": [
    {
     "name": "stdout",
     "output_type": "stream",
     "text": [
      "['asma', 'asma', 'ali']\n"
     ]
    }
   ],
   "source": [
    "completed_list.append(a)\n",
    "completed_list.append(b)\n",
    "print(completed_list)"
   ]
  },
  {
   "cell_type": "code",
   "execution_count": null,
   "id": "5961dd8b",
   "metadata": {},
   "outputs": [],
   "source": []
  },
  {
   "cell_type": "code",
   "execution_count": null,
   "id": "bc99218f",
   "metadata": {},
   "outputs": [],
   "source": []
  },
  {
   "cell_type": "code",
   "execution_count": 61,
   "id": "b5d8f6a8",
   "metadata": {},
   "outputs": [
    {
     "data": {
      "text/plain": [
       "[1, 2, 3, 4, 5, 6, 7, 8, 9, 10, 11, 12, 13, 14, 15, 16, 17, 18, 19]"
      ]
     },
     "execution_count": 61,
     "metadata": {},
     "output_type": "execute_result"
    }
   ],
   "source": [
    " list(range(1,20))"
   ]
  },
  {
   "cell_type": "code",
   "execution_count": 63,
   "id": "98eb980b",
   "metadata": {},
   "outputs": [
    {
     "name": "stdout",
     "output_type": "stream",
     "text": [
      "1\n",
      "2\n",
      "3\n",
      "4\n",
      "5\n",
      "6\n",
      "7\n",
      "8\n",
      "9\n",
      "10\n"
     ]
    }
   ],
   "source": [
    "for num in [1,2,3,4,5,6,7,8,9,10]:\n",
    "    print(num)"
   ]
  },
  {
   "cell_type": "code",
   "execution_count": 66,
   "id": "73ab5fe3",
   "metadata": {},
   "outputs": [
    {
     "name": "stdout",
     "output_type": "stream",
     "text": [
      "{'names': ['asma', 'fatima', 'azra'], 'fnames': ['ali', 'fahad', 'abdullah'], 'qualification': ['MSAA', 'MSC', 'BCS'], 'skills': ['AI', 'ML', 'cloud computing']}\n"
     ]
    }
   ],
   "source": [
    "data = {\n",
    "    'names':['asma','fatima','azra'],\n",
    "    'fnames':['ali','fahad','abdullah'],\n",
    "'qualification':['MSAA', 'MSC', 'BCS'],\n",
    "'skills':['AI', 'ML', 'cloud computing']\n",
    "}\n",
    "print(data)"
   ]
  },
  {
   "cell_type": "code",
   "execution_count": 68,
   "id": "a2977262",
   "metadata": {},
   "outputs": [
    {
     "name": "stdout",
     "output_type": "stream",
     "text": [
      "('names', ['asma', 'fatima', 'azra'])\n",
      "('fnames', ['ali', 'fahad', 'abdullah'])\n",
      "('qualification', ['MSAA', 'MSC', 'BCS'])\n",
      "('skills', ['AI', 'ML', 'cloud computing'])\n"
     ]
    }
   ],
   "source": [
    "for k in data.items():\n",
    "    print(k)"
   ]
  },
  {
   "cell_type": "code",
   "execution_count": 10,
   "id": "fefb23d4",
   "metadata": {},
   "outputs": [
    {
     "name": "stdout",
     "output_type": "stream",
     "text": [
      "('names', ['asma', 'fatima', 'azra'])\n",
      "('fnames', ['ali', 'fahad', 'abdullah'])\n"
     ]
    }
   ],
   "source": [
    "for i in data.items():\n",
    "    print(i)"
   ]
  },
  {
   "cell_type": "code",
   "execution_count": 12,
   "id": "863ff901",
   "metadata": {},
   "outputs": [
    {
     "name": "stdout",
     "output_type": "stream",
     "text": [
      "names ['asma', 'fatima', 'azra']\n",
      "fnames ['ali', 'fahad', 'abdullah']\n"
     ]
    }
   ],
   "source": [
    "for k,v in data.items():\n",
    "    print(k,v)"
   ]
  },
  {
   "cell_type": "markdown",
   "id": "531966d6",
   "metadata": {},
   "source": [
    "# # returnable and non returnable functions "
   ]
  },
  {
   "cell_type": "code",
   "execution_count": 13,
   "id": "5b394180",
   "metadata": {},
   "outputs": [
    {
     "name": "stdout",
     "output_type": "stream",
     "text": [
      "pakistan\n",
      "None\n"
     ]
    }
   ],
   "source": [
    "a = print('pakistan')# non return function\n",
    "print(a)"
   ]
  },
  {
   "cell_type": "code",
   "execution_count": 14,
   "id": "f93f425c",
   "metadata": {},
   "outputs": [
    {
     "name": "stdout",
     "output_type": "stream",
     "text": [
      "8\n"
     ]
    }
   ],
   "source": [
    "a = len('pakistan')# returnable function\n",
    "print(a)\n"
   ]
  },
  {
   "cell_type": "code",
   "execution_count": 15,
   "id": "75ae49d3",
   "metadata": {},
   "outputs": [
    {
     "name": "stdout",
     "output_type": "stream",
     "text": [
      "<class 'str'>\n"
     ]
    }
   ],
   "source": [
    "a = type('pakistan')\n",
    "print(a)"
   ]
  },
  {
   "cell_type": "code",
   "execution_count": null,
   "id": "44a0d112",
   "metadata": {},
   "outputs": [],
   "source": []
  }
 ],
 "metadata": {
  "kernelspec": {
   "display_name": "Python 3 (ipykernel)",
   "language": "python",
   "name": "python3"
  },
  "language_info": {
   "codemirror_mode": {
    "name": "ipython",
    "version": 3
   },
   "file_extension": ".py",
   "mimetype": "text/x-python",
   "name": "python",
   "nbconvert_exporter": "python",
   "pygments_lexer": "ipython3",
   "version": "3.9.12"
  }
 },
 "nbformat": 4,
 "nbformat_minor": 5
}
