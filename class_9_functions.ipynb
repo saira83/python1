{
 "cells": [
  {
   "cell_type": "markdown",
   "id": "48efcae8",
   "metadata": {},
   "source": [
    "# class_9_functions"
   ]
  },
  {
   "cell_type": "markdown",
   "id": "5a89309a",
   "metadata": {},
   "source": [
    "# fUNCTIONS\n",
    "steps to make function\n",
    "\n",
    "*function declair/define\n",
    "    * function name\n",
    "    * argument\n",
    "*functin body\n",
    "  *set of statement\n",
    "*function calling\n",
    "  *name()\n",
    "  *pass argument\n",
    "\n",
    "# return\n",
    "* if store output in variable\n",
    "# non-return\n",
    "** if not  store output in variable\n",
    "# dafault\n",
    "*not required any argument when you call\n",
    "# required arguments\n",
    "function will not work without requirements\n",
    "# optional arguments\n",
    "*if we did not provide any thing that is optional, function will not stop its work it will continue with some its default arguments value.\n",
    "\n",
    "# generator function\n",
    "*generate value one by one\n",
    "*always remember old generated values\n",
    "# lambda function\n",
    "*one line function\n",
    "*it has no name\n",
    "*one time use only\n",
    "# recursive function\n",
    "*it call in its own body\n",
    "*it work repeatedly"
   ]
  },
  {
   "cell_type": "markdown",
   "id": "81663921",
   "metadata": {},
   "source": [
    "## pre- define functions\n",
    " "
   ]
  },
  {
   "cell_type": "code",
   "execution_count": 1,
   "id": "83800c29",
   "metadata": {},
   "outputs": [
    {
     "name": "stdout",
     "output_type": "stream",
     "text": [
      "helo\n",
      "4\n",
      "1604708389808\n"
     ]
    }
   ],
   "source": [
    "print(\"helo\") # function calling\n",
    "print(len(\"helo\"))\n",
    "print(id(\"helo\"))"
   ]
  },
  {
   "cell_type": "code",
   "execution_count": 2,
   "id": "6f43f8cd",
   "metadata": {},
   "outputs": [
    {
     "name": "stdout",
     "output_type": "stream",
     "text": [
      "pakistan zinda abad\n",
      "None\n"
     ]
    }
   ],
   "source": [
    "#return function\n",
    "a = print(\"pakistan zinda abad\")# nob returable\n",
    "print(a) #unable to store value in variable"
   ]
  },
  {
   "cell_type": "code",
   "execution_count": 3,
   "id": "baeef876",
   "metadata": {},
   "outputs": [
    {
     "name": "stdout",
     "output_type": "stream",
     "text": [
      "1604708501360\n"
     ]
    }
   ],
   "source": [
    "a = id(\"pakistan\") # return function\n",
    "print(a)# successfuly store in variabe"
   ]
  },
  {
   "cell_type": "code",
   "execution_count": 4,
   "id": "1d6b1169",
   "metadata": {},
   "outputs": [
    {
     "name": "stdout",
     "output_type": "stream",
     "text": [
      "8\n"
     ]
    }
   ],
   "source": [
    "a = len(\"pakistan\")\n",
    "print(a)"
   ]
  },
  {
   "cell_type": "markdown",
   "id": "d26696f3",
   "metadata": {},
   "source": [
    "## user defined  function\n",
    "'''\n",
    "def function_word(argument1, agument2,...):\n",
    "    statement1\n",
    "    staement2\n",
    "    \n",
    "function_word(arg1, arg2)\n",
    "'''"
   ]
  },
  {
   "cell_type": "code",
   "execution_count": 5,
   "id": "03cef33f",
   "metadata": {},
   "outputs": [
    {
     "name": "stdout",
     "output_type": "stream",
     "text": [
      "PIAIC\n",
      "course\n",
      "\t AI\n",
      "\t Blockchain\n"
     ]
    }
   ],
   "source": [
    "def piaic_introduction(): # function declair\n",
    "    print(\"PIAIC\") # staement1\n",
    "    print('course') # 2\n",
    "    print(\"\\t AI\") #3\n",
    "    print(\"\\t Blockchain\") #4\n",
    "    \n",
    "piaic_introduction()\n",
    "    \n",
    "    \n",
    "    "
   ]
  },
  {
   "cell_type": "code",
   "execution_count": 6,
   "id": "21d41dd2",
   "metadata": {},
   "outputs": [
    {
     "name": "stdout",
     "output_type": "stream",
     "text": [
      "\n",
      "    PIAIC\n",
      "    courses offer\n",
      "         AI\n",
      "         Blockchain\n",
      "         cloud computing\n",
      "         metaverse    \n",
      "    \n"
     ]
    }
   ],
   "source": [
    "def piaic_introduction(): # function declair\n",
    "    txt =\"\"\"\n",
    "    PIAIC\n",
    "    courses offer\n",
    "         AI\n",
    "         Blockchain\n",
    "         cloud computing\n",
    "         metaverse    \n",
    "    \"\"\"\n",
    "    return txt\n",
    "\n",
    "print(piaic_introduction())\n",
    "\n",
    "    "
   ]
  },
  {
   "cell_type": "code",
   "execution_count": 7,
   "id": "ed6a2b1c",
   "metadata": {},
   "outputs": [
    {
     "name": "stdout",
     "output_type": "stream",
     "text": [
      "\n",
      "    PIAIC\n",
      "    courses offer\n",
      "         AI\n",
      "         Blockchain\n",
      "         cloud computing\n",
      "         metaverse    \n",
      "    \n",
      "\n",
      "    PIAIC\n",
      "    courses offer\n",
      "         AI\n",
      "         Blockchain\n",
      "         cloud computing\n",
      "         metaverse    \n",
      "    \n"
     ]
    }
   ],
   "source": [
    "print(piaic_introduction())\n",
    "print(piaic_introduction())"
   ]
  },
  {
   "cell_type": "markdown",
   "id": "ceb41ba9",
   "metadata": {},
   "source": [
    "## required arguments"
   ]
  },
  {
   "cell_type": "code",
   "execution_count": 8,
   "id": "f954816e",
   "metadata": {},
   "outputs": [
    {
     "name": "stdout",
     "output_type": "stream",
     "text": [
      "27\n",
      "52\n",
      "32\n",
      "15\n"
     ]
    }
   ],
   "source": [
    "def addition(num1, num2):\n",
    "    return num1 + num2\n",
    "\n",
    "print(addition(7, 20))\n",
    "print(addition(50, 2))\n",
    "print(addition(30, 2))\n",
    "print(addition(12, 3))"
   ]
  },
  {
   "cell_type": "code",
   "execution_count": 9,
   "id": "335415ae",
   "metadata": {},
   "outputs": [
    {
     "data": {
      "text/plain": [
       "8"
      ]
     },
     "execution_count": 9,
     "metadata": {},
     "output_type": "execute_result"
    }
   ],
   "source": [
    "addition(3, 5)"
   ]
  },
  {
   "cell_type": "markdown",
   "id": "e3c400d8",
   "metadata": {},
   "source": [
    "# optional argument"
   ]
  },
  {
   "cell_type": "code",
   "execution_count": 10,
   "id": "d60cdcc7",
   "metadata": {},
   "outputs": [
    {
     "name": "stdout",
     "output_type": "stream",
     "text": [
      "0\n",
      "1\n",
      "7\n"
     ]
    }
   ],
   "source": [
    "def addition(num1=0, num2=0):\n",
    "    return num1 + num2\n",
    "print(addition())\n",
    "print(addition(1))\n",
    "print(addition(2, 5))"
   ]
  },
  {
   "cell_type": "code",
   "execution_count": 11,
   "id": "7149a3c7",
   "metadata": {},
   "outputs": [
    {
     "name": "stdout",
     "output_type": "stream",
     "text": [
      "\n",
      "    boiling rice\n",
      "    making qorma with meat\n",
      "    layring tomato\n",
      "    now enjoy it :)\n",
      "    \n"
     ]
    }
   ],
   "source": [
    "# optional and required together\n",
    "def making_biryani(rice,meat, tomatos=\".5 kg\"): # when we write = it means it is optional oyherwise its required\n",
    "    txt = f\"\"\"\n",
    "    boiling {rice}\n",
    "    making qorma with {meat}\n",
    "    layring {tomatos}\n",
    "    now enjoy it :)\n",
    "    \"\"\"\n",
    "    \n",
    "    return txt\n",
    "\n",
    "a = making_biryani(\"rice\",\"meat\", \"tomato\")\n",
    "print(a)\n"
   ]
  },
  {
   "cell_type": "code",
   "execution_count": 12,
   "id": "574df119",
   "metadata": {},
   "outputs": [
    {
     "name": "stdout",
     "output_type": "stream",
     "text": [
      "<function making_biryani at 0x00000175A018CD30>\n"
     ]
    }
   ],
   "source": [
    "print(making_biryani)"
   ]
  },
  {
   "cell_type": "code",
   "execution_count": 13,
   "id": "0b56690b",
   "metadata": {},
   "outputs": [
    {
     "name": "stdout",
     "output_type": "stream",
     "text": [
      "\n",
      "    boiling Basmati\n",
      "    making qorma with beef\n",
      "    layring 1KG\n",
      "    now enjoy it :)\n",
      "    \n"
     ]
    }
   ],
   "source": [
    "print(making_biryani(\"Basmati\", 'beef', '1KG'))"
   ]
  },
  {
   "cell_type": "code",
   "execution_count": 14,
   "id": "cea3d79a",
   "metadata": {},
   "outputs": [
    {
     "name": "stdout",
     "output_type": "stream",
     "text": [
      "\n",
      "    boiling rice\n",
      "    making qorma with meat\n",
      "    layring tomato\n",
      "    now enjoy it :)\n",
      "    \n"
     ]
    }
   ],
   "source": [
    "print(a)"
   ]
  },
  {
   "cell_type": "markdown",
   "id": "180442df",
   "metadata": {},
   "source": [
    "# optional argument 2 unlimited"
   ]
  },
  {
   "cell_type": "code",
   "execution_count": 15,
   "id": "50db1e64",
   "metadata": {},
   "outputs": [
    {
     "name": "stdout",
     "output_type": "stream",
     "text": [
      "5 (3, 4, 7, 6)\n"
     ]
    },
    {
     "data": {
      "text/plain": [
       "5"
      ]
     },
     "execution_count": 15,
     "metadata": {},
     "output_type": "execute_result"
    }
   ],
   "source": [
    "def my_sum(num1,*num): # when we use asteric then it take the next numbers as tuple\n",
    "    print(num1,num)\n",
    "    return num1 \n",
    "\n",
    "my_sum(5,3,4,7,6)"
   ]
  },
  {
   "cell_type": "code",
   "execution_count": 16,
   "id": "dca60b3a",
   "metadata": {},
   "outputs": [
    {
     "name": "stdout",
     "output_type": "stream",
     "text": [
      "5 3 (4, 7, 6)\n"
     ]
    },
    {
     "data": {
      "text/plain": [
       "25"
      ]
     },
     "execution_count": 16,
     "metadata": {},
     "output_type": "execute_result"
    }
   ],
   "source": [
    "def my_sum(num1,num2,*num):\n",
    "    print(num1,num2,num)\n",
    "    return num1 + num2 +sum(num)\n",
    "\n",
    "my_sum(5,3,4,7,6)"
   ]
  },
  {
   "cell_type": "code",
   "execution_count": 17,
   "id": "3995826d",
   "metadata": {},
   "outputs": [
    {
     "name": "stdout",
     "output_type": "stream",
     "text": [
      "23 45 (67,)\n"
     ]
    },
    {
     "data": {
      "text/plain": [
       "135"
      ]
     },
     "execution_count": 17,
     "metadata": {},
     "output_type": "execute_result"
    }
   ],
   "source": [
    "my_sum(23,45,67)"
   ]
  },
  {
   "cell_type": "code",
   "execution_count": 18,
   "id": "f77ce8ea",
   "metadata": {},
   "outputs": [
    {
     "name": "stdout",
     "output_type": "stream",
     "text": [
      "1 30 55 66 78\n"
     ]
    }
   ],
   "source": [
    "l = [1,30,55,66,78,]\n",
    "print(l[0],l[1],l[2],l[3],l[4])# list index wise"
   ]
  },
  {
   "cell_type": "code",
   "execution_count": 19,
   "id": "c55c3e79",
   "metadata": {
    "scrolled": true
   },
   "outputs": [
    {
     "name": "stdout",
     "output_type": "stream",
     "text": [
      "1 30 55 66 78\n"
     ]
    }
   ],
   "source": [
    "l = [1,30,55,66,78,]\n",
    "print(*l) # during call * before itrated data type + unzip values"
   ]
  },
  {
   "cell_type": "code",
   "execution_count": 20,
   "id": "014824a3",
   "metadata": {},
   "outputs": [
    {
     "data": {
      "text/plain": [
       "'sairafatimahirairha'"
      ]
     },
     "execution_count": 20,
     "metadata": {},
     "output_type": "execute_result"
    }
   ],
   "source": [
    "def my_class(name1, name2, name3, name4):\n",
    "    return name1 + name2 + name3 + name4\n",
    "\n",
    "l = ['saira', 'fatima', 'hira', 'irha']\n",
    "my_class(*l)\n",
    "\n",
    "\n",
    "    \n"
   ]
  },
  {
   "cell_type": "code",
   "execution_count": 1,
   "id": "c106f0f1",
   "metadata": {},
   "outputs": [
    {
     "name": "stdout",
     "output_type": "stream",
     "text": [
      "2 4 6 7 8 9 33\n"
     ]
    }
   ],
   "source": [
    "l = [2, 4, 6, 7, 8, 9, 33,]\n",
    "print(*l)"
   ]
  },
  {
   "cell_type": "code",
   "execution_count": 21,
   "id": "7bea4455",
   "metadata": {},
   "outputs": [
    {
     "name": "stdout",
     "output_type": "stream",
     "text": [
      "50 saira ['hira', 'irha']\n",
      "50 saira hira irha\n"
     ]
    }
   ],
   "source": [
    "print(50, l[0],l[-2:])\n",
    "print(50, l[0],*l[-2:])"
   ]
  },
  {
   "cell_type": "code",
   "execution_count": 22,
   "id": "c3d21692",
   "metadata": {},
   "outputs": [
    {
     "data": {
      "text/plain": [
       "230.5"
      ]
     },
     "execution_count": 22,
     "metadata": {},
     "output_type": "execute_result"
    }
   ],
   "source": [
    "def my_new_sum(num1,num2,num3,num4,num5,num6):\n",
    "    return num1+num2+num3+num4+num5+num6\n",
    "\n",
    "l = [10,20,30,40.50,60,70]\n",
    "my_new_sum(*l)"
   ]
  },
  {
   "cell_type": "markdown",
   "id": "862b196e",
   "metadata": {},
   "source": [
    "## calling function with key word argument"
   ]
  },
  {
   "cell_type": "code",
   "execution_count": 23,
   "id": "20a7735e",
   "metadata": {},
   "outputs": [
    {
     "name": "stdout",
     "output_type": "stream",
     "text": [
      "\n",
      "    piaic student identity card\n",
      "    roll_no: 11\n",
      "    name: hamza\n",
      "    fname: qamar\n",
      "    course: AIC\n",
      "    \n"
     ]
    }
   ],
   "source": [
    "def student_card(roll_no, name, fname, course):\n",
    "    card = f\"\"\"\n",
    "    piaic student identity card\n",
    "    roll_no: {roll_no}\n",
    "    name: {name}\n",
    "    fname: {fname}\n",
    "    course: {course}\n",
    "    \"\"\"\n",
    "    \n",
    "    return card\n",
    "\n",
    "print(student_card(11,'hamza','qamar','AIC'))\n"
   ]
  },
  {
   "cell_type": "code",
   "execution_count": 30,
   "id": "1106eff7",
   "metadata": {},
   "outputs": [
    {
     "name": "stdout",
     "output_type": "stream",
     "text": [
      "\n",
      "    piaic student identity card\n",
      "    roll_no: 11\n",
      "    name: hassaan\n",
      "    fname: mehmood\n",
      "    course: AIC\n",
      "    \n"
     ]
    }
   ],
   "source": [
    "def student_card(roll_no, name, fname, course):\n",
    "    card = f\"\"\"\n",
    "    piaic student identity card\n",
    "    roll_no: {roll_no}\n",
    "    name: {name}\n",
    "    fname: {fname}\n",
    "    course: {course}\n",
    "    \"\"\"\n",
    "    \n",
    "    return card\n",
    "\n",
    "print(student_card(name=\"hassaan\", fname=\"mehmood\", roll_no=11, course=\"AIC\"))"
   ]
  },
  {
   "cell_type": "code",
   "execution_count": 31,
   "id": "ff34d781",
   "metadata": {},
   "outputs": [
    {
     "name": "stdout",
     "output_type": "stream",
     "text": [
      "\n",
      "    piaic student identity card\n",
      "    roll_no: 11\n",
      "    name: hassaan\n",
      "    fname: mehmod\n",
      "    course: AIC\n",
      "    \n"
     ]
    }
   ],
   "source": [
    "l = [11,'hassaan', 'mehmod', 'AIC']\n",
    "print(student_card(*l))"
   ]
  },
  {
   "cell_type": "code",
   "execution_count": 35,
   "id": "ef83670d",
   "metadata": {},
   "outputs": [
    {
     "name": "stdout",
     "output_type": "stream",
     "text": [
      "\n",
      "    piaic student identity card\n",
      "    roll_no: 11\n",
      "    name: saira\n",
      "    fname: abdulwali\n",
      "    course: AIC\n",
      "    \n"
     ]
    }
   ],
   "source": [
    "# if we want to pass dict in key word arguments then we use ** \n",
    "d1 = {\"name\":\"saira\",\n",
    "     \"fname\":\"abdulwali\",\n",
    "     \"roll_no\":11,\n",
    "     \"course\":\"AIC\"}\n",
    "print(student_card(**d1))"
   ]
  },
  {
   "cell_type": "code",
   "execution_count": null,
   "id": "7eb90015",
   "metadata": {},
   "outputs": [],
   "source": [
    "def my_new_sum(num1,num2,num3,num4,num5,num6):\n",
    "    print(num1, num2, num3, num4, num5, num6)\n",
    "    return num1 + num2 + num3 + num4 + num5 + num6\n",
    "\n",
    "my_new_sum(2,3,4,5,6,7)"
   ]
  },
  {
   "cell_type": "code",
   "execution_count": null,
   "id": "0124d63f",
   "metadata": {},
   "outputs": [],
   "source": [
    " student_card = input(\"Enter student roll_no\")\n",
    "            \n",
    "      "
   ]
  },
  {
   "cell_type": "markdown",
   "id": "54d7626e",
   "metadata": {},
   "source": [
    "# creating keyword argument unlimited"
   ]
  },
  {
   "cell_type": "code",
   "execution_count": 3,
   "id": "caff3702",
   "metadata": {},
   "outputs": [
    {
     "name": "stdout",
     "output_type": "stream",
     "text": [
      "3 5 {'l': 20, 'age': 45, 'course': 'AIC'}\n"
     ]
    }
   ],
   "source": [
    "def my_function(num1, num2, **abc):# optional keyword argument\n",
    "    print(num1,num2,abc)\n",
    "\n",
    "my_function(3,5,l=20, age=45, course=\"AIC\")\n"
   ]
  },
  {
   "cell_type": "markdown",
   "id": "fd128a17",
   "metadata": {},
   "source": [
    "# lambda function"
   ]
  },
  {
   "cell_type": "code",
   "execution_count": 7,
   "id": "dcd5d4e4",
   "metadata": {},
   "outputs": [
    {
     "data": {
      "text/plain": [
       "35"
      ]
     },
     "execution_count": 7,
     "metadata": {},
     "output_type": "execute_result"
    }
   ],
   "source": [
    "def add(num1,num2):\n",
    "    return num1 + num2\n",
    "add(30,5)"
   ]
  },
  {
   "cell_type": "code",
   "execution_count": null,
   "id": "4f59f3ec",
   "metadata": {},
   "outputs": [],
   "source": [
    "lambda num1,num2: num1 + num2"
   ]
  },
  {
   "cell_type": "code",
   "execution_count": 8,
   "id": "82584be4",
   "metadata": {},
   "outputs": [
    {
     "data": {
      "text/plain": [
       "35"
      ]
     },
     "execution_count": 8,
     "metadata": {},
     "output_type": "execute_result"
    }
   ],
   "source": [
    "a = lambda num1,num2: num1 + num2 # we conver it into a variable\n",
    "a(30,5)"
   ]
  },
  {
   "cell_type": "code",
   "execution_count": 12,
   "id": "8689910e",
   "metadata": {},
   "outputs": [
    {
     "data": {
      "text/plain": [
       "[[3, 'x', 'c'], [2, 'y', 'b'], [1, 'z', 'a']]"
      ]
     },
     "execution_count": 12,
     "metadata": {},
     "output_type": "execute_result"
    }
   ],
   "source": [
    "data = [[1,'z','a'],\n",
    "       [2,'y','b'],\n",
    "       [3,'x','c']]\n",
    "\n",
    "sorted(data, key=lambda x:x[1])\n"
   ]
  },
  {
   "cell_type": "code",
   "execution_count": 13,
   "id": "a9886772",
   "metadata": {},
   "outputs": [
    {
     "data": {
      "text/plain": [
       "[[1, 'z', 'a'], [2, 'y', 'b'], [3, 'x', 'c']]"
      ]
     },
     "execution_count": 13,
     "metadata": {},
     "output_type": "execute_result"
    }
   ],
   "source": [
    "\n",
    "sorted(data, key=lambda x:x[0])"
   ]
  },
  {
   "cell_type": "code",
   "execution_count": 14,
   "id": "da0a25ff",
   "metadata": {},
   "outputs": [
    {
     "data": {
      "text/plain": [
       "[[3, 'x', 'c'], [2, 'y', 'b'], [1, 'z', 'a']]"
      ]
     },
     "execution_count": 14,
     "metadata": {},
     "output_type": "execute_result"
    }
   ],
   "source": [
    "sorted(data, key=lambda x:x[2], reverse=True)"
   ]
  },
  {
   "cell_type": "markdown",
   "id": "64320a08",
   "metadata": {},
   "source": [
    "# genrated function"
   ]
  },
  {
   "cell_type": "code",
   "execution_count": 24,
   "id": "f59b6f5b",
   "metadata": {},
   "outputs": [
    {
     "data": {
      "text/plain": [
       "range(1, 11)"
      ]
     },
     "execution_count": 24,
     "metadata": {},
     "output_type": "execute_result"
    }
   ],
   "source": [
    "range(1,11)"
   ]
  },
  {
   "cell_type": "code",
   "execution_count": 25,
   "id": "9fbd1669",
   "metadata": {},
   "outputs": [
    {
     "data": {
      "text/plain": [
       "[1, 2, 3, 4, 5, 6, 7, 8, 9, 10]"
      ]
     },
     "execution_count": 25,
     "metadata": {},
     "output_type": "execute_result"
    }
   ],
   "source": [
    "list(range(1,11))"
   ]
  },
  {
   "cell_type": "code",
   "execution_count": 26,
   "id": "2d819e19",
   "metadata": {},
   "outputs": [
    {
     "data": {
      "text/plain": [
       "<zip at 0x20aebe0ff00>"
      ]
     },
     "execution_count": 26,
     "metadata": {},
     "output_type": "execute_result"
    }
   ],
   "source": [
    "l1 = [1,2,3]\n",
    "l2 = ['a','b','c']\n",
    "zip(l1,l2)"
   ]
  },
  {
   "cell_type": "code",
   "execution_count": 27,
   "id": "7fe412de",
   "metadata": {},
   "outputs": [
    {
     "data": {
      "text/plain": [
       "[(1, 'a'), (2, 'b'), (3, 'c')]"
      ]
     },
     "execution_count": 27,
     "metadata": {},
     "output_type": "execute_result"
    }
   ],
   "source": [
    "list(zip(l1,l2))"
   ]
  },
  {
   "cell_type": "markdown",
   "id": "345162d5",
   "metadata": {},
   "source": [
    "# how to make generator function"
   ]
  },
  {
   "cell_type": "code",
   "execution_count": 28,
   "id": "21547849",
   "metadata": {},
   "outputs": [
    {
     "ename": "TypeError",
     "evalue": "my_gen() takes 0 positional arguments but 2 were given",
     "output_type": "error",
     "traceback": [
      "\u001b[1;31m---------------------------------------------------------------------------\u001b[0m",
      "\u001b[1;31mTypeError\u001b[0m                                 Traceback (most recent call last)",
      "Input \u001b[1;32mIn [28]\u001b[0m, in \u001b[0;36m<cell line: 5>\u001b[1;34m()\u001b[0m\n\u001b[0;32m      2\u001b[0m     \u001b[38;5;28;01mfor\u001b[39;00m i \u001b[38;5;129;01min\u001b[39;00m \u001b[38;5;28mrange\u001b[39m(s, e\u001b[38;5;241m+\u001b[39m\u001b[38;5;241m1\u001b[39m):\n\u001b[0;32m      3\u001b[0m         \u001b[38;5;28;01myield\u001b[39;00m i\n\u001b[1;32m----> 5\u001b[0m abc \u001b[38;5;241m=\u001b[39m \u001b[43mmy_gen\u001b[49m\u001b[43m(\u001b[49m\u001b[38;5;241;43m1\u001b[39;49m\u001b[43m,\u001b[49m\u001b[38;5;241;43m10\u001b[39;49m\u001b[43m)\u001b[49m\n\u001b[0;32m      6\u001b[0m \u001b[38;5;28mprint\u001b[39m(abc)\n\u001b[0;32m      7\u001b[0m \u001b[38;5;28mprint\u001b[39m(\u001b[38;5;28mnext\u001b[39m(abc))\n",
      "\u001b[1;31mTypeError\u001b[0m: my_gen() takes 0 positional arguments but 2 were given"
     ]
    }
   ],
   "source": [
    "def my_gen():\n",
    "    for i in range(s, e+1):\n",
    "        yield i\n",
    "                \n",
    "abc = my_gen(1,10)\n",
    "print(abc)\n",
    "print(next(abc))"
   ]
  },
  {
   "cell_type": "code",
   "execution_count": 29,
   "id": "a18777e0",
   "metadata": {},
   "outputs": [
    {
     "ename": "TypeError",
     "evalue": "my_gen() takes 0 positional arguments but 2 were given",
     "output_type": "error",
     "traceback": [
      "\u001b[1;31m---------------------------------------------------------------------------\u001b[0m",
      "\u001b[1;31mTypeError\u001b[0m                                 Traceback (most recent call last)",
      "Input \u001b[1;32mIn [29]\u001b[0m, in \u001b[0;36m<cell line: 5>\u001b[1;34m()\u001b[0m\n\u001b[0;32m      2\u001b[0m     \u001b[38;5;28;01mfor\u001b[39;00m i \u001b[38;5;129;01min\u001b[39;00m \u001b[38;5;28mrange\u001b[39m(s, e\u001b[38;5;241m+\u001b[39m\u001b[38;5;241m1\u001b[39m):\n\u001b[0;32m      3\u001b[0m         \u001b[38;5;28;01myield\u001b[39;00m i\n\u001b[1;32m----> 5\u001b[0m abc \u001b[38;5;241m=\u001b[39m \u001b[43mmy_gen\u001b[49m\u001b[43m(\u001b[49m\u001b[38;5;241;43m1\u001b[39;49m\u001b[43m,\u001b[49m\u001b[38;5;241;43m10\u001b[39;49m\u001b[43m)\u001b[49m\n\u001b[0;32m      6\u001b[0m \u001b[38;5;28mprint\u001b[39m(abc)\n",
      "\u001b[1;31mTypeError\u001b[0m: my_gen() takes 0 positional arguments but 2 were given"
     ]
    }
   ],
   "source": [
    "def my_gen():\n",
    "    for i in range(s, e+1):\n",
    "        yield i\n",
    "                \n",
    "abc = my_gen(1,10)\n",
    "print(abc)"
   ]
  },
  {
   "cell_type": "markdown",
   "id": "a2c0516b",
   "metadata": {},
   "source": [
    "# recursive"
   ]
  },
  {
   "cell_type": "code",
   "execution_count": null,
   "id": "b3c91b92",
   "metadata": {},
   "outputs": [],
   "source": [
    "def abc(x):\n",
    "    if x==0:\n",
    "        return 0 \n",
    "    return abc(x-1) "
   ]
  }
 ],
 "metadata": {
  "kernelspec": {
   "display_name": "Python 3 (ipykernel)",
   "language": "python",
   "name": "python3"
  },
  "language_info": {
   "codemirror_mode": {
    "name": "ipython",
    "version": 3
   },
   "file_extension": ".py",
   "mimetype": "text/x-python",
   "name": "python",
   "nbconvert_exporter": "python",
   "pygments_lexer": "ipython3",
   "version": "3.9.12"
  }
 },
 "nbformat": 4,
 "nbformat_minor": 5
}
